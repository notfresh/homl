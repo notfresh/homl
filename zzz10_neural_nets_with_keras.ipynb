{
 "cells": [
  {
   "cell_type": "code",
   "execution_count": 1,
   "metadata": {
    "execution": {
     "iopub.execute_input": "2024-11-29T09:11:36.163873Z",
     "iopub.status.busy": "2024-11-29T09:11:36.163528Z",
     "iopub.status.idle": "2024-11-29T09:11:39.023876Z",
     "shell.execute_reply": "2024-11-29T09:11:39.023301Z",
     "shell.execute_reply.started": "2024-11-29T09:11:36.163853Z"
    },
    "id": "oaKIUKF8yLTW",
    "tags": []
   },
   "outputs": [],
   "source": [
    "import tensorflow as tf"
   ]
  },
  {
   "cell_type": "code",
   "execution_count": 2,
   "metadata": {
    "execution": {
     "iopub.execute_input": "2024-11-29T09:11:39.026327Z",
     "iopub.status.busy": "2024-11-29T09:11:39.025965Z",
     "iopub.status.idle": "2024-11-29T09:11:39.029309Z",
     "shell.execute_reply": "2024-11-29T09:11:39.028726Z",
     "shell.execute_reply.started": "2024-11-29T09:11:39.026308Z"
    },
    "id": "kuuVN2g-0Kif"
   },
   "outputs": [],
   "source": [
    "from tensorflow import keras"
   ]
  },
  {
   "cell_type": "code",
   "execution_count": 3,
   "metadata": {
    "colab": {
     "base_uri": "https://localhost:8080/",
     "height": 35
    },
    "execution": {
     "iopub.execute_input": "2024-11-29T09:11:39.030179Z",
     "iopub.status.busy": "2024-11-29T09:11:39.029962Z",
     "iopub.status.idle": "2024-11-29T09:11:39.034497Z",
     "shell.execute_reply": "2024-11-29T09:11:39.034091Z",
     "shell.execute_reply.started": "2024-11-29T09:11:39.030163Z"
    },
    "id": "yPxGgFXq0T_5",
    "outputId": "b132e0de-ed82-4db9-c7a7-f83a531c32a1"
   },
   "outputs": [
    {
     "data": {
      "text/plain": [
       "'1.15.5'"
      ]
     },
     "execution_count": 3,
     "metadata": {},
     "output_type": "execute_result"
    }
   ],
   "source": [
    "tf.__version__"
   ]
  },
  {
   "cell_type": "code",
   "execution_count": 4,
   "metadata": {
    "colab": {
     "base_uri": "https://localhost:8080/",
     "height": 35
    },
    "execution": {
     "iopub.execute_input": "2024-11-29T09:11:39.035832Z",
     "iopub.status.busy": "2024-11-29T09:11:39.035556Z",
     "iopub.status.idle": "2024-11-29T09:11:39.038473Z",
     "shell.execute_reply": "2024-11-29T09:11:39.038054Z",
     "shell.execute_reply.started": "2024-11-29T09:11:39.035813Z"
    },
    "id": "K3l3TB8H0e7O",
    "outputId": "c8ea3f53-a396-4495-bfc3-4d903707f432"
   },
   "outputs": [
    {
     "data": {
      "text/plain": [
       "'2.2.4-tf'"
      ]
     },
     "execution_count": 4,
     "metadata": {},
     "output_type": "execute_result"
    }
   ],
   "source": [
    "keras.__version__"
   ]
  },
  {
   "cell_type": "code",
   "execution_count": 5,
   "metadata": {
    "execution": {
     "iopub.execute_input": "2024-11-29T09:11:39.039209Z",
     "iopub.status.busy": "2024-11-29T09:11:39.039025Z",
     "iopub.status.idle": "2024-11-29T09:11:39.041359Z",
     "shell.execute_reply": "2024-11-29T09:11:39.040940Z",
     "shell.execute_reply.started": "2024-11-29T09:11:39.039196Z"
    },
    "id": "yaIGVPyI0sIS"
   },
   "outputs": [],
   "source": [
    "fashion_mnist = keras.datasets.fashion_mnist"
   ]
  },
  {
   "cell_type": "code",
   "execution_count": 6,
   "metadata": {
    "colab": {
     "base_uri": "https://localhost:8080/"
    },
    "execution": {
     "iopub.execute_input": "2024-11-29T09:11:39.042132Z",
     "iopub.status.busy": "2024-11-29T09:11:39.041896Z",
     "iopub.status.idle": "2024-11-29T09:11:39.406536Z",
     "shell.execute_reply": "2024-11-29T09:11:39.405995Z",
     "shell.execute_reply.started": "2024-11-29T09:11:39.042117Z"
    },
    "id": "qWQJjEln01vF",
    "outputId": "23009c7d-90cc-45f7-8b8a-1ddc6335df71"
   },
   "outputs": [
    {
     "name": "stdout",
     "output_type": "stream",
     "text": [
      "Directory /root/.keras/datasets/fashion-mnist does not exist. Copying from /mnt/workspace/data/fashion-mnist...\n",
      "Copying completed.\n"
     ]
    }
   ],
   "source": [
    "import os\n",
    "import shutil\n",
    "\n",
    "# 定义源目录和目标目录\n",
    "source_dir = '/mnt/workspace/data/fashion-mnist'\n",
    "target_dir = '/root/.keras/datasets/fashion-mnist'\n",
    "\n",
    "# 检查目标目录是否存在\n",
    "if not os.path.exists(target_dir):\n",
    "    # 如果目标目录不存在，则从源目录复制\n",
    "    print(f\"Directory {target_dir} does not exist. Copying from {source_dir}...\")\n",
    "    shutil.copytree(source_dir, target_dir)\n",
    "    print(f\"Copying completed.\")\n",
    "else:\n",
    "    print(f\"Directory {target_dir} already exists. No need to copy.\")"
   ]
  },
  {
   "cell_type": "code",
   "execution_count": 7,
   "metadata": {
    "execution": {
     "iopub.execute_input": "2024-11-29T09:11:39.407665Z",
     "iopub.status.busy": "2024-11-29T09:11:39.407307Z",
     "iopub.status.idle": "2024-11-29T09:11:39.717482Z",
     "shell.execute_reply": "2024-11-29T09:11:39.716913Z",
     "shell.execute_reply.started": "2024-11-29T09:11:39.407648Z"
    },
    "id": "1KoqeVW31HG0"
   },
   "outputs": [],
   "source": [
    "fashion_mnist_data = fashion_mnist.load_data()"
   ]
  },
  {
   "cell_type": "code",
   "execution_count": 8,
   "metadata": {
    "colab": {
     "base_uri": "https://localhost:8080/"
    },
    "execution": {
     "iopub.execute_input": "2024-11-29T09:11:39.718493Z",
     "iopub.status.busy": "2024-11-29T09:11:39.718230Z",
     "iopub.status.idle": "2024-11-29T09:11:39.721595Z",
     "shell.execute_reply": "2024-11-29T09:11:39.721171Z",
     "shell.execute_reply.started": "2024-11-29T09:11:39.718476Z"
    },
    "id": "GM0EaUUU1N27",
    "outputId": "d146f34e-f51d-4239-814e-e74e6707fb82"
   },
   "outputs": [
    {
     "data": {
      "text/plain": [
       "2"
      ]
     },
     "execution_count": 8,
     "metadata": {},
     "output_type": "execute_result"
    }
   ],
   "source": [
    "len(fashion_mnist_data)"
   ]
  },
  {
   "cell_type": "code",
   "execution_count": 9,
   "metadata": {
    "colab": {
     "base_uri": "https://localhost:8080/"
    },
    "execution": {
     "iopub.execute_input": "2024-11-29T09:11:39.722405Z",
     "iopub.status.busy": "2024-11-29T09:11:39.722177Z",
     "iopub.status.idle": "2024-11-29T09:11:39.725202Z",
     "shell.execute_reply": "2024-11-29T09:11:39.724781Z",
     "shell.execute_reply.started": "2024-11-29T09:11:39.722390Z"
    },
    "id": "0xJYkIPQ1RAc",
    "outputId": "c461bb5f-bc4c-4776-dc02-c8df6f1af6db"
   },
   "outputs": [
    {
     "data": {
      "text/plain": [
       "tensorflow.python.util.module_wrapper.TFModuleWrapper"
      ]
     },
     "execution_count": 9,
     "metadata": {},
     "output_type": "execute_result"
    }
   ],
   "source": [
    "type(fashion_mnist)"
   ]
  },
  {
   "cell_type": "code",
   "execution_count": 10,
   "metadata": {
    "execution": {
     "iopub.execute_input": "2024-11-29T09:11:39.727273Z",
     "iopub.status.busy": "2024-11-29T09:11:39.727028Z",
     "iopub.status.idle": "2024-11-29T09:11:39.729916Z",
     "shell.execute_reply": "2024-11-29T09:11:39.729317Z",
     "shell.execute_reply.started": "2024-11-29T09:11:39.727259Z"
    },
    "id": "frhlPqHI1i9Z"
   },
   "outputs": [],
   "source": [
    "p1 = fashion_mnist_data[0]"
   ]
  },
  {
   "cell_type": "code",
   "execution_count": 11,
   "metadata": {
    "colab": {
     "base_uri": "https://localhost:8080/"
    },
    "execution": {
     "iopub.execute_input": "2024-11-29T09:11:39.730907Z",
     "iopub.status.busy": "2024-11-29T09:11:39.730642Z",
     "iopub.status.idle": "2024-11-29T09:11:39.734112Z",
     "shell.execute_reply": "2024-11-29T09:11:39.733657Z",
     "shell.execute_reply.started": "2024-11-29T09:11:39.730885Z"
    },
    "id": "0A_x0iK_2Hzn",
    "outputId": "e63dffa2-d4bf-4c8b-e35a-e06ac068afff"
   },
   "outputs": [
    {
     "data": {
      "text/plain": [
       "2"
      ]
     },
     "execution_count": 11,
     "metadata": {},
     "output_type": "execute_result"
    }
   ],
   "source": [
    "len(p1)"
   ]
  },
  {
   "cell_type": "code",
   "execution_count": 12,
   "metadata": {
    "colab": {
     "base_uri": "https://localhost:8080/"
    },
    "execution": {
     "iopub.execute_input": "2024-11-29T09:11:39.734889Z",
     "iopub.status.busy": "2024-11-29T09:11:39.734666Z",
     "iopub.status.idle": "2024-11-29T09:11:39.737693Z",
     "shell.execute_reply": "2024-11-29T09:11:39.737298Z",
     "shell.execute_reply.started": "2024-11-29T09:11:39.734874Z"
    },
    "id": "XvHQ-mIe2oQV",
    "outputId": "a749268e-2ea5-49fa-e266-cebc0565720f"
   },
   "outputs": [
    {
     "data": {
      "text/plain": [
       "numpy.ndarray"
      ]
     },
     "execution_count": 12,
     "metadata": {},
     "output_type": "execute_result"
    }
   ],
   "source": [
    "type(p1[1])"
   ]
  },
  {
   "cell_type": "code",
   "execution_count": 13,
   "metadata": {
    "colab": {
     "base_uri": "https://localhost:8080/"
    },
    "execution": {
     "iopub.execute_input": "2024-11-29T09:11:39.738506Z",
     "iopub.status.busy": "2024-11-29T09:11:39.738285Z",
     "iopub.status.idle": "2024-11-29T09:11:39.741270Z",
     "shell.execute_reply": "2024-11-29T09:11:39.740853Z",
     "shell.execute_reply.started": "2024-11-29T09:11:39.738492Z"
    },
    "id": "FWvKal1a2us0",
    "outputId": "c2760314-19ed-49bb-fb4a-1c54f984605a"
   },
   "outputs": [
    {
     "data": {
      "text/plain": [
       "(60000, 28, 28)"
      ]
     },
     "execution_count": 13,
     "metadata": {},
     "output_type": "execute_result"
    }
   ],
   "source": [
    "p1[0].shape"
   ]
  },
  {
   "cell_type": "code",
   "execution_count": 14,
   "metadata": {
    "colab": {
     "base_uri": "https://localhost:8080/"
    },
    "execution": {
     "iopub.execute_input": "2024-11-29T09:11:39.742051Z",
     "iopub.status.busy": "2024-11-29T09:11:39.741820Z",
     "iopub.status.idle": "2024-11-29T09:11:39.744809Z",
     "shell.execute_reply": "2024-11-29T09:11:39.744392Z",
     "shell.execute_reply.started": "2024-11-29T09:11:39.742037Z"
    },
    "id": "DKdbvR2g2yQW",
    "outputId": "298bb263-aaff-41f4-c9d4-38b23324d755"
   },
   "outputs": [
    {
     "data": {
      "text/plain": [
       "(60000,)"
      ]
     },
     "execution_count": 14,
     "metadata": {},
     "output_type": "execute_result"
    }
   ],
   "source": [
    "p1[1].shape"
   ]
  },
  {
   "cell_type": "code",
   "execution_count": 15,
   "metadata": {
    "colab": {
     "base_uri": "https://localhost:8080/"
    },
    "execution": {
     "iopub.execute_input": "2024-11-29T09:11:39.745572Z",
     "iopub.status.busy": "2024-11-29T09:11:39.745350Z",
     "iopub.status.idle": "2024-11-29T09:11:39.748434Z",
     "shell.execute_reply": "2024-11-29T09:11:39.748038Z",
     "shell.execute_reply.started": "2024-11-29T09:11:39.745558Z"
    },
    "id": "Cm1AoDaj3IdF",
    "outputId": "a48a7ffe-647f-40ae-ff33-6871ae45f8fe"
   },
   "outputs": [
    {
     "data": {
      "text/plain": [
       "dtype('uint8')"
      ]
     },
     "execution_count": 15,
     "metadata": {},
     "output_type": "execute_result"
    }
   ],
   "source": [
    "p1[1].dtype"
   ]
  },
  {
   "cell_type": "code",
   "execution_count": 16,
   "metadata": {
    "colab": {
     "base_uri": "https://localhost:8080/"
    },
    "execution": {
     "iopub.execute_input": "2024-11-29T09:11:39.749243Z",
     "iopub.status.busy": "2024-11-29T09:11:39.749000Z",
     "iopub.status.idle": "2024-11-29T09:11:39.751981Z",
     "shell.execute_reply": "2024-11-29T09:11:39.751553Z",
     "shell.execute_reply.started": "2024-11-29T09:11:39.749228Z"
    },
    "id": "pzKhJI4u3LAb",
    "outputId": "b3dd6f87-d868-4048-ec95-a8ae0062340e"
   },
   "outputs": [
    {
     "data": {
      "text/plain": [
       "numpy.uint8"
      ]
     },
     "execution_count": 16,
     "metadata": {},
     "output_type": "execute_result"
    }
   ],
   "source": [
    "type(p1[1][0])"
   ]
  },
  {
   "cell_type": "code",
   "execution_count": 17,
   "metadata": {
    "execution": {
     "iopub.execute_input": "2024-11-29T09:11:39.752717Z",
     "iopub.status.busy": "2024-11-29T09:11:39.752511Z",
     "iopub.status.idle": "2024-11-29T09:11:39.754967Z",
     "shell.execute_reply": "2024-11-29T09:11:39.754495Z",
     "shell.execute_reply.started": "2024-11-29T09:11:39.752703Z"
    }
   },
   "outputs": [],
   "source": [
    "(train_data, train_label), (test_data, test_label) = fashion_mnist_data"
   ]
  },
  {
   "cell_type": "code",
   "execution_count": 18,
   "metadata": {
    "execution": {
     "iopub.execute_input": "2024-11-29T09:11:39.755710Z",
     "iopub.status.busy": "2024-11-29T09:11:39.755504Z",
     "iopub.status.idle": "2024-11-29T09:11:39.758417Z",
     "shell.execute_reply": "2024-11-29T09:11:39.757927Z",
     "shell.execute_reply.started": "2024-11-29T09:11:39.755696Z"
    }
   },
   "outputs": [
    {
     "data": {
      "text/plain": [
       "60000"
      ]
     },
     "execution_count": 18,
     "metadata": {},
     "output_type": "execute_result"
    }
   ],
   "source": [
    "len(train_data)"
   ]
  },
  {
   "cell_type": "code",
   "execution_count": 19,
   "metadata": {
    "execution": {
     "iopub.execute_input": "2024-11-29T09:11:39.759185Z",
     "iopub.status.busy": "2024-11-29T09:11:39.758975Z",
     "iopub.status.idle": "2024-11-29T09:11:39.761779Z",
     "shell.execute_reply": "2024-11-29T09:11:39.761367Z",
     "shell.execute_reply.started": "2024-11-29T09:11:39.759171Z"
    }
   },
   "outputs": [
    {
     "data": {
      "text/plain": [
       "10000"
      ]
     },
     "execution_count": 19,
     "metadata": {},
     "output_type": "execute_result"
    }
   ],
   "source": [
    "len(test_data)"
   ]
  },
  {
   "cell_type": "code",
   "execution_count": 20,
   "metadata": {
    "execution": {
     "iopub.execute_input": "2024-11-29T09:11:39.762531Z",
     "iopub.status.busy": "2024-11-29T09:11:39.762326Z",
     "iopub.status.idle": "2024-11-29T09:11:39.765197Z",
     "shell.execute_reply": "2024-11-29T09:11:39.764779Z",
     "shell.execute_reply.started": "2024-11-29T09:11:39.762517Z"
    }
   },
   "outputs": [
    {
     "data": {
      "text/plain": [
       "10000"
      ]
     },
     "execution_count": 20,
     "metadata": {},
     "output_type": "execute_result"
    }
   ],
   "source": [
    "len(test_label)"
   ]
  },
  {
   "cell_type": "code",
   "execution_count": 21,
   "metadata": {
    "execution": {
     "iopub.execute_input": "2024-11-29T09:11:39.766002Z",
     "iopub.status.busy": "2024-11-29T09:11:39.765720Z",
     "iopub.status.idle": "2024-11-29T09:11:39.768273Z",
     "shell.execute_reply": "2024-11-29T09:11:39.767788Z",
     "shell.execute_reply.started": "2024-11-29T09:11:39.765984Z"
    }
   },
   "outputs": [],
   "source": [
    "valid_data, valid_label = train_data[-5000:], train_label[-5000:]"
   ]
  },
  {
   "cell_type": "code",
   "execution_count": 22,
   "metadata": {
    "execution": {
     "iopub.execute_input": "2024-11-29T09:11:39.769144Z",
     "iopub.status.busy": "2024-11-29T09:11:39.768823Z",
     "iopub.status.idle": "2024-11-29T09:11:39.771200Z",
     "shell.execute_reply": "2024-11-29T09:11:39.770720Z",
     "shell.execute_reply.started": "2024-11-29T09:11:39.769130Z"
    }
   },
   "outputs": [],
   "source": [
    "train_data_full, train_label_full = train_data, train_label"
   ]
  },
  {
   "cell_type": "code",
   "execution_count": 23,
   "metadata": {
    "execution": {
     "iopub.execute_input": "2024-11-29T09:11:39.771953Z",
     "iopub.status.busy": "2024-11-29T09:11:39.771714Z",
     "iopub.status.idle": "2024-11-29T09:11:39.774533Z",
     "shell.execute_reply": "2024-11-29T09:11:39.774140Z",
     "shell.execute_reply.started": "2024-11-29T09:11:39.771935Z"
    }
   },
   "outputs": [
    {
     "data": {
      "text/plain": [
       "60000"
      ]
     },
     "execution_count": 23,
     "metadata": {},
     "output_type": "execute_result"
    }
   ],
   "source": [
    "len(train_label_full)"
   ]
  },
  {
   "cell_type": "code",
   "execution_count": 24,
   "metadata": {
    "execution": {
     "iopub.execute_input": "2024-11-29T09:11:39.775299Z",
     "iopub.status.busy": "2024-11-29T09:11:39.775100Z",
     "iopub.status.idle": "2024-11-29T09:11:39.777614Z",
     "shell.execute_reply": "2024-11-29T09:11:39.777157Z",
     "shell.execute_reply.started": "2024-11-29T09:11:39.775285Z"
    }
   },
   "outputs": [],
   "source": [
    "train_data, train_label = train_data_full[:-5000], train_label_full[:-5000]"
   ]
  },
  {
   "cell_type": "code",
   "execution_count": 25,
   "metadata": {
    "execution": {
     "iopub.execute_input": "2024-11-29T09:11:39.778384Z",
     "iopub.status.busy": "2024-11-29T09:11:39.778202Z",
     "iopub.status.idle": "2024-11-29T09:11:39.781106Z",
     "shell.execute_reply": "2024-11-29T09:11:39.780669Z",
     "shell.execute_reply.started": "2024-11-29T09:11:39.778369Z"
    }
   },
   "outputs": [
    {
     "data": {
      "text/plain": [
       "55000"
      ]
     },
     "execution_count": 25,
     "metadata": {},
     "output_type": "execute_result"
    }
   ],
   "source": [
    "len(train_data)"
   ]
  },
  {
   "cell_type": "code",
   "execution_count": 26,
   "metadata": {
    "execution": {
     "iopub.execute_input": "2024-11-29T09:11:39.781951Z",
     "iopub.status.busy": "2024-11-29T09:11:39.781627Z",
     "iopub.status.idle": "2024-11-29T09:11:39.784911Z",
     "shell.execute_reply": "2024-11-29T09:11:39.784447Z",
     "shell.execute_reply.started": "2024-11-29T09:11:39.781930Z"
    }
   },
   "outputs": [
    {
     "data": {
      "text/plain": [
       "55000"
      ]
     },
     "execution_count": 26,
     "metadata": {},
     "output_type": "execute_result"
    }
   ],
   "source": [
    "len(train_label)"
   ]
  },
  {
   "cell_type": "code",
   "execution_count": 27,
   "metadata": {
    "execution": {
     "iopub.execute_input": "2024-11-29T09:11:39.785728Z",
     "iopub.status.busy": "2024-11-29T09:11:39.785479Z",
     "iopub.status.idle": "2024-11-29T09:11:39.787858Z",
     "shell.execute_reply": "2024-11-29T09:11:39.787392Z",
     "shell.execute_reply.started": "2024-11-29T09:11:39.785713Z"
    }
   },
   "outputs": [],
   "source": [
    "train_data1 = train_data[0]"
   ]
  },
  {
   "cell_type": "code",
   "execution_count": 28,
   "metadata": {
    "execution": {
     "iopub.execute_input": "2024-11-29T09:11:39.792248Z",
     "iopub.status.busy": "2024-11-29T09:11:39.791998Z",
     "iopub.status.idle": "2024-11-29T09:11:39.794867Z",
     "shell.execute_reply": "2024-11-29T09:11:39.794465Z",
     "shell.execute_reply.started": "2024-11-29T09:11:39.792233Z"
    }
   },
   "outputs": [
    {
     "data": {
      "text/plain": [
       "(28, 28)"
      ]
     },
     "execution_count": 28,
     "metadata": {},
     "output_type": "execute_result"
    }
   ],
   "source": [
    "train_data1.shape"
   ]
  },
  {
   "cell_type": "code",
   "execution_count": 29,
   "metadata": {
    "execution": {
     "iopub.execute_input": "2024-11-29T09:11:39.795630Z",
     "iopub.status.busy": "2024-11-29T09:11:39.795398Z",
     "iopub.status.idle": "2024-11-29T09:11:39.798467Z",
     "shell.execute_reply": "2024-11-29T09:11:39.798071Z",
     "shell.execute_reply.started": "2024-11-29T09:11:39.795617Z"
    }
   },
   "outputs": [
    {
     "data": {
      "text/plain": [
       "417"
      ]
     },
     "execution_count": 29,
     "metadata": {},
     "output_type": "execute_result"
    }
   ],
   "source": [
    "import numpy as np\n",
    "np.argmax(train_data1)"
   ]
  },
  {
   "cell_type": "code",
   "execution_count": 30,
   "metadata": {
    "execution": {
     "iopub.execute_input": "2024-11-29T09:11:39.799231Z",
     "iopub.status.busy": "2024-11-29T09:11:39.799019Z",
     "iopub.status.idle": "2024-11-29T09:11:39.802159Z",
     "shell.execute_reply": "2024-11-29T09:11:39.801733Z",
     "shell.execute_reply.started": "2024-11-29T09:11:39.799217Z"
    }
   },
   "outputs": [
    {
     "data": {
      "text/plain": [
       "(28, 28)"
      ]
     },
     "execution_count": 30,
     "metadata": {},
     "output_type": "execute_result"
    }
   ],
   "source": [
    "train_data1.shape"
   ]
  },
  {
   "cell_type": "code",
   "execution_count": 31,
   "metadata": {
    "execution": {
     "iopub.execute_input": "2024-11-29T09:11:39.802934Z",
     "iopub.status.busy": "2024-11-29T09:11:39.802661Z",
     "iopub.status.idle": "2024-11-29T09:11:39.805471Z",
     "shell.execute_reply": "2024-11-29T09:11:39.805078Z",
     "shell.execute_reply.started": "2024-11-29T09:11:39.802894Z"
    }
   },
   "outputs": [
    {
     "data": {
      "text/plain": [
       "784"
      ]
     },
     "execution_count": 31,
     "metadata": {},
     "output_type": "execute_result"
    }
   ],
   "source": [
    "28*28"
   ]
  },
  {
   "cell_type": "code",
   "execution_count": 32,
   "metadata": {
    "execution": {
     "iopub.execute_input": "2024-11-29T09:11:39.806216Z",
     "iopub.status.busy": "2024-11-29T09:11:39.806014Z",
     "iopub.status.idle": "2024-11-29T09:11:39.809436Z",
     "shell.execute_reply": "2024-11-29T09:11:39.809041Z",
     "shell.execute_reply.started": "2024-11-29T09:11:39.806202Z"
    }
   },
   "outputs": [
    {
     "data": {
      "text/plain": [
       "255"
      ]
     },
     "execution_count": 32,
     "metadata": {},
     "output_type": "execute_result"
    }
   ],
   "source": [
    "np.max(train_data1.reshape(-1))"
   ]
  },
  {
   "cell_type": "code",
   "execution_count": 33,
   "metadata": {
    "execution": {
     "iopub.execute_input": "2024-11-29T09:11:39.810207Z",
     "iopub.status.busy": "2024-11-29T09:11:39.809996Z",
     "iopub.status.idle": "2024-11-29T09:11:39.975413Z",
     "shell.execute_reply": "2024-11-29T09:11:39.974851Z",
     "shell.execute_reply.started": "2024-11-29T09:11:39.810194Z"
    }
   },
   "outputs": [],
   "source": [
    "train_data_01, valid_data_01 = train_data/255.0, valid_data/255.0"
   ]
  },
  {
   "cell_type": "code",
   "execution_count": 34,
   "metadata": {
    "execution": {
     "iopub.execute_input": "2024-11-29T09:11:39.976361Z",
     "iopub.status.busy": "2024-11-29T09:11:39.976111Z",
     "iopub.status.idle": "2024-11-29T09:11:40.009778Z",
     "shell.execute_reply": "2024-11-29T09:11:40.009297Z",
     "shell.execute_reply.started": "2024-11-29T09:11:39.976344Z"
    }
   },
   "outputs": [
    {
     "data": {
      "text/plain": [
       "1.0"
      ]
     },
     "execution_count": 34,
     "metadata": {},
     "output_type": "execute_result"
    }
   ],
   "source": [
    "np.max(train_data_01)"
   ]
  },
  {
   "cell_type": "code",
   "execution_count": 35,
   "metadata": {
    "execution": {
     "iopub.execute_input": "2024-11-29T09:11:40.010661Z",
     "iopub.status.busy": "2024-11-29T09:11:40.010427Z",
     "iopub.status.idle": "2024-11-29T09:11:40.043891Z",
     "shell.execute_reply": "2024-11-29T09:11:40.043381Z",
     "shell.execute_reply.started": "2024-11-29T09:11:40.010646Z"
    }
   },
   "outputs": [
    {
     "data": {
      "text/plain": [
       "0.0"
      ]
     },
     "execution_count": 35,
     "metadata": {},
     "output_type": "execute_result"
    }
   ],
   "source": [
    "np.min(train_data_01)"
   ]
  },
  {
   "cell_type": "code",
   "execution_count": 36,
   "metadata": {
    "execution": {
     "iopub.execute_input": "2024-11-29T09:11:40.044768Z",
     "iopub.status.busy": "2024-11-29T09:11:40.044539Z",
     "iopub.status.idle": "2024-11-29T09:11:40.047222Z",
     "shell.execute_reply": "2024-11-29T09:11:40.046781Z",
     "shell.execute_reply.started": "2024-11-29T09:11:40.044739Z"
    }
   },
   "outputs": [],
   "source": [
    "class_names = [\"T-shirt/top\", \"Trouser\", \"Pullover\", \"Dress\", \"Coat\",\n",
    "               \"Sandal\", \"Shirt\", \"Sneaker\", \"Bag\", \"Ankle boot\"]"
   ]
  },
  {
   "cell_type": "code",
   "execution_count": 37,
   "metadata": {
    "execution": {
     "iopub.execute_input": "2024-11-29T09:11:40.048381Z",
     "iopub.status.busy": "2024-11-29T09:11:40.047825Z",
     "iopub.status.idle": "2024-11-29T09:11:40.052016Z",
     "shell.execute_reply": "2024-11-29T09:11:40.051417Z",
     "shell.execute_reply.started": "2024-11-29T09:11:40.048349Z"
    }
   },
   "outputs": [
    {
     "data": {
      "text/plain": [
       "'Ankle boot'"
      ]
     },
     "execution_count": 37,
     "metadata": {},
     "output_type": "execute_result"
    }
   ],
   "source": [
    "class_names[train_label[0]]"
   ]
  },
  {
   "cell_type": "code",
   "execution_count": 38,
   "metadata": {
    "execution": {
     "iopub.execute_input": "2024-11-29T09:11:40.052791Z",
     "iopub.status.busy": "2024-11-29T09:11:40.052574Z",
     "iopub.status.idle": "2024-11-29T09:11:40.055446Z",
     "shell.execute_reply": "2024-11-29T09:11:40.054928Z",
     "shell.execute_reply.started": "2024-11-29T09:11:40.052775Z"
    }
   },
   "outputs": [
    {
     "name": "stdout",
     "output_type": "stream",
     "text": [
      "1\n"
     ]
    }
   ],
   "source": [
    "print(1)"
   ]
  },
  {
   "cell_type": "code",
   "execution_count": 39,
   "metadata": {
    "execution": {
     "iopub.execute_input": "2024-11-29T09:11:40.056403Z",
     "iopub.status.busy": "2024-11-29T09:11:40.056079Z",
     "iopub.status.idle": "2024-11-29T09:11:40.059192Z",
     "shell.execute_reply": "2024-11-29T09:11:40.058718Z",
     "shell.execute_reply.started": "2024-11-29T09:11:40.056388Z"
    }
   },
   "outputs": [
    {
     "data": {
      "text/plain": [
       "(55000, 28, 28)"
      ]
     },
     "execution_count": 39,
     "metadata": {},
     "output_type": "execute_result"
    }
   ],
   "source": [
    "train_data.shape"
   ]
  },
  {
   "cell_type": "code",
   "execution_count": 40,
   "metadata": {
    "execution": {
     "iopub.execute_input": "2024-11-29T09:11:40.059942Z",
     "iopub.status.busy": "2024-11-29T09:11:40.059705Z",
     "iopub.status.idle": "2024-11-29T09:11:40.062569Z",
     "shell.execute_reply": "2024-11-29T09:11:40.062174Z",
     "shell.execute_reply.started": "2024-11-29T09:11:40.059924Z"
    }
   },
   "outputs": [
    {
     "data": {
      "text/plain": [
       "numpy.ndarray"
      ]
     },
     "execution_count": 40,
     "metadata": {},
     "output_type": "execute_result"
    }
   ],
   "source": [
    "type(train_data)"
   ]
  },
  {
   "cell_type": "code",
   "execution_count": 41,
   "metadata": {
    "execution": {
     "iopub.execute_input": "2024-11-29T09:11:40.063409Z",
     "iopub.status.busy": "2024-11-29T09:11:40.063188Z",
     "iopub.status.idle": "2024-11-29T09:11:40.066165Z",
     "shell.execute_reply": "2024-11-29T09:11:40.065723Z",
     "shell.execute_reply.started": "2024-11-29T09:11:40.063395Z"
    }
   },
   "outputs": [
    {
     "data": {
      "text/plain": [
       "<module 'tensorflow.python.keras.api._v1.keras' from '/opt/conda/lib/python3.7/site-packages/tensorflow_core/python/keras/api/_v1/keras/__init__.py'>"
      ]
     },
     "execution_count": 41,
     "metadata": {},
     "output_type": "execute_result"
    }
   ],
   "source": [
    "keras"
   ]
  },
  {
   "cell_type": "code",
   "execution_count": 42,
   "metadata": {
    "execution": {
     "iopub.execute_input": "2024-11-29T09:11:40.066891Z",
     "iopub.status.busy": "2024-11-29T09:11:40.066676Z",
     "iopub.status.idle": "2024-11-29T09:11:40.071236Z",
     "shell.execute_reply": "2024-11-29T09:11:40.070805Z",
     "shell.execute_reply.started": "2024-11-29T09:11:40.066877Z"
    }
   },
   "outputs": [],
   "source": [
    "model = keras.models.Sequential()"
   ]
  },
  {
   "cell_type": "code",
   "execution_count": 43,
   "metadata": {
    "execution": {
     "iopub.execute_input": "2024-11-29T09:11:40.072047Z",
     "iopub.status.busy": "2024-11-29T09:11:40.071766Z",
     "iopub.status.idle": "2024-11-29T09:11:40.084603Z",
     "shell.execute_reply": "2024-11-29T09:11:40.084177Z",
     "shell.execute_reply.started": "2024-11-29T09:11:40.072032Z"
    }
   },
   "outputs": [],
   "source": [
    "model.add(keras.layers.Flatten(input_shape=[28,28]))"
   ]
  },
  {
   "cell_type": "code",
   "execution_count": 44,
   "metadata": {
    "execution": {
     "iopub.execute_input": "2024-11-29T09:11:40.085379Z",
     "iopub.status.busy": "2024-11-29T09:11:40.085184Z",
     "iopub.status.idle": "2024-11-29T09:11:40.100197Z",
     "shell.execute_reply": "2024-11-29T09:11:40.099732Z",
     "shell.execute_reply.started": "2024-11-29T09:11:40.085360Z"
    }
   },
   "outputs": [
    {
     "name": "stdout",
     "output_type": "stream",
     "text": [
      "WARNING:tensorflow:From /opt/conda/lib/python3.7/site-packages/tensorflow_core/python/ops/resource_variable_ops.py:1630: calling BaseResourceVariable.__init__ (from tensorflow.python.ops.resource_variable_ops) with constraint is deprecated and will be removed in a future version.\n",
      "Instructions for updating:\n",
      "If using Keras pass *_constraint arguments to layers.\n"
     ]
    }
   ],
   "source": [
    "model.add(keras.layers.Dense(300, activation=\"relu\"))"
   ]
  },
  {
   "cell_type": "code",
   "execution_count": 45,
   "metadata": {
    "execution": {
     "iopub.execute_input": "2024-11-29T09:11:40.101046Z",
     "iopub.status.busy": "2024-11-29T09:11:40.100720Z",
     "iopub.status.idle": "2024-11-29T09:11:40.113221Z",
     "shell.execute_reply": "2024-11-29T09:11:40.112771Z",
     "shell.execute_reply.started": "2024-11-29T09:11:40.101031Z"
    }
   },
   "outputs": [],
   "source": [
    "model.add(keras.layers.Dense(100, activation=\"relu\"))"
   ]
  },
  {
   "cell_type": "code",
   "execution_count": 46,
   "metadata": {
    "execution": {
     "iopub.execute_input": "2024-11-29T09:11:40.114047Z",
     "iopub.status.busy": "2024-11-29T09:11:40.113773Z",
     "iopub.status.idle": "2024-11-29T09:11:40.126383Z",
     "shell.execute_reply": "2024-11-29T09:11:40.125929Z",
     "shell.execute_reply.started": "2024-11-29T09:11:40.114032Z"
    }
   },
   "outputs": [],
   "source": [
    "model.add(keras.layers.Dense(10, activation=\"softmax\"))"
   ]
  },
  {
   "cell_type": "code",
   "execution_count": 47,
   "metadata": {
    "execution": {
     "iopub.execute_input": "2024-11-29T09:11:40.127207Z",
     "iopub.status.busy": "2024-11-29T09:11:40.126960Z",
     "iopub.status.idle": "2024-11-29T09:11:40.130478Z",
     "shell.execute_reply": "2024-11-29T09:11:40.129943Z",
     "shell.execute_reply.started": "2024-11-29T09:11:40.127193Z"
    }
   },
   "outputs": [
    {
     "name": "stdout",
     "output_type": "stream",
     "text": [
      "Model: \"sequential\"\n",
      "_________________________________________________________________\n",
      "Layer (type)                 Output Shape              Param #   \n",
      "=================================================================\n",
      "flatten (Flatten)            (None, 784)               0         \n",
      "_________________________________________________________________\n",
      "dense (Dense)                (None, 300)               235500    \n",
      "_________________________________________________________________\n",
      "dense_1 (Dense)              (None, 100)               30100     \n",
      "_________________________________________________________________\n",
      "dense_2 (Dense)              (None, 10)                1010      \n",
      "=================================================================\n",
      "Total params: 266,610\n",
      "Trainable params: 266,610\n",
      "Non-trainable params: 0\n",
      "_________________________________________________________________\n"
     ]
    }
   ],
   "source": [
    "model.summary()"
   ]
  },
  {
   "cell_type": "code",
   "execution_count": 48,
   "metadata": {
    "execution": {
     "iopub.execute_input": "2024-11-29T09:11:40.131157Z",
     "iopub.status.busy": "2024-11-29T09:11:40.130982Z",
     "iopub.status.idle": "2024-11-29T09:11:40.137620Z",
     "shell.execute_reply": "2024-11-29T09:11:40.137163Z",
     "shell.execute_reply.started": "2024-11-29T09:11:40.131140Z"
    }
   },
   "outputs": [
    {
     "data": {
      "text/plain": [
       "[<tensorflow.python.keras.layers.core.Flatten at 0x7f4f88aa8a10>,\n",
       " <tensorflow.python.keras.layers.core.Dense at 0x7f4f882c5250>,\n",
       " <tensorflow.python.keras.layers.core.Dense at 0x7f4f88269e50>,\n",
       " <tensorflow.python.keras.layers.core.Dense at 0x7f4f88280a90>]"
      ]
     },
     "execution_count": 48,
     "metadata": {},
     "output_type": "execute_result"
    }
   ],
   "source": [
    "model.layers"
   ]
  },
  {
   "cell_type": "code",
   "execution_count": 49,
   "metadata": {
    "execution": {
     "iopub.execute_input": "2024-11-29T09:11:40.138944Z",
     "iopub.status.busy": "2024-11-29T09:11:40.138455Z",
     "iopub.status.idle": "2024-11-29T09:11:40.141527Z",
     "shell.execute_reply": "2024-11-29T09:11:40.140930Z",
     "shell.execute_reply.started": "2024-11-29T09:11:40.138923Z"
    }
   },
   "outputs": [],
   "source": [
    "hidden1 = model.layers[1]"
   ]
  },
  {
   "cell_type": "code",
   "execution_count": 50,
   "metadata": {
    "execution": {
     "iopub.execute_input": "2024-11-29T09:11:40.142514Z",
     "iopub.status.busy": "2024-11-29T09:11:40.142164Z",
     "iopub.status.idle": "2024-11-29T09:11:40.145140Z",
     "shell.execute_reply": "2024-11-29T09:11:40.144694Z",
     "shell.execute_reply.started": "2024-11-29T09:11:40.142499Z"
    }
   },
   "outputs": [
    {
     "data": {
      "text/plain": [
       "'dense'"
      ]
     },
     "execution_count": 50,
     "metadata": {},
     "output_type": "execute_result"
    }
   ],
   "source": [
    "hidden1.name"
   ]
  },
  {
   "cell_type": "code",
   "execution_count": 51,
   "metadata": {
    "ExecutionIndicator": {
     "show": true
    },
    "execution": {
     "iopub.execute_input": "2024-11-29T09:11:40.145928Z",
     "iopub.status.busy": "2024-11-29T09:11:40.145691Z",
     "iopub.status.idle": "2024-11-29T09:11:40.148659Z",
     "shell.execute_reply": "2024-11-29T09:11:40.148252Z",
     "shell.execute_reply.started": "2024-11-29T09:11:40.145910Z"
    },
    "tags": []
   },
   "outputs": [
    {
     "data": {
      "text/plain": [
       "<tensorflow.python.keras.layers.core.Dense at 0x7f4f882c5250>"
      ]
     },
     "execution_count": 51,
     "metadata": {},
     "output_type": "execute_result"
    }
   ],
   "source": [
    "model.get_layer('dense')"
   ]
  },
  {
   "cell_type": "code",
   "execution_count": 52,
   "metadata": {
    "execution": {
     "iopub.execute_input": "2024-11-29T09:11:40.149452Z",
     "iopub.status.busy": "2024-11-29T09:11:40.149210Z",
     "iopub.status.idle": "2024-11-29T09:11:40.245173Z",
     "shell.execute_reply": "2024-11-29T09:11:40.244606Z",
     "shell.execute_reply.started": "2024-11-29T09:11:40.149438Z"
    },
    "tags": []
   },
   "outputs": [
    {
     "name": "stderr",
     "output_type": "stream",
     "text": [
      "2024-11-29 17:11:40.151107: I tensorflow/core/platform/cpu_feature_guard.cc:142] Your CPU supports instructions that this TensorFlow binary was not compiled to use: AVX2 AVX512F FMA\n",
      "2024-11-29 17:11:40.171192: I tensorflow/core/platform/profile_utils/cpu_utils.cc:94] CPU Frequency: 2699995000 Hz\n",
      "2024-11-29 17:11:40.173533: I tensorflow/compiler/xla/service/service.cc:168] XLA service 0x3ac9310 initialized for platform Host (this does not guarantee that XLA will be used). Devices:\n",
      "2024-11-29 17:11:40.173548: I tensorflow/compiler/xla/service/service.cc:176]   StreamExecutor device (0): Host, Default Version\n"
     ]
    }
   ],
   "source": [
    "wights, bias = hidden1.get_weights()"
   ]
  },
  {
   "cell_type": "code",
   "execution_count": 53,
   "metadata": {
    "execution": {
     "iopub.execute_input": "2024-11-29T09:11:40.246044Z",
     "iopub.status.busy": "2024-11-29T09:11:40.245813Z",
     "iopub.status.idle": "2024-11-29T09:11:40.249719Z",
     "shell.execute_reply": "2024-11-29T09:11:40.249285Z",
     "shell.execute_reply.started": "2024-11-29T09:11:40.246027Z"
    },
    "tags": []
   },
   "outputs": [
    {
     "data": {
      "text/plain": [
       "array([[ 0.03525434,  0.0075706 , -0.06256079, ..., -0.05049804,\n",
       "         0.06480139,  0.03020044],\n",
       "       [ 0.0461904 ,  0.05209424, -0.06051292, ...,  0.01720127,\n",
       "        -0.066048  , -0.05555169],\n",
       "       [ 0.06805468, -0.00181955, -0.01651493, ...,  0.06192872,\n",
       "         0.04611234,  0.05357376],\n",
       "       ...,\n",
       "       [ 0.06070128,  0.00776629,  0.0302009 , ..., -0.00547273,\n",
       "         0.04471266, -0.01812559],\n",
       "       [ 0.00858654, -0.00798521,  0.0566249 , ..., -0.06994484,\n",
       "         0.02719321, -0.06186509],\n",
       "       [ 0.03180012,  0.04359604,  0.02974019, ..., -0.02270986,\n",
       "         0.07109809, -0.0526501 ]], dtype=float32)"
      ]
     },
     "execution_count": 53,
     "metadata": {},
     "output_type": "execute_result"
    }
   ],
   "source": [
    "wights"
   ]
  },
  {
   "cell_type": "code",
   "execution_count": 54,
   "metadata": {
    "execution": {
     "iopub.execute_input": "2024-11-29T09:11:40.250550Z",
     "iopub.status.busy": "2024-11-29T09:11:40.250326Z",
     "iopub.status.idle": "2024-11-29T09:11:40.254926Z",
     "shell.execute_reply": "2024-11-29T09:11:40.254465Z",
     "shell.execute_reply.started": "2024-11-29T09:11:40.250536Z"
    },
    "tags": []
   },
   "outputs": [
    {
     "data": {
      "text/plain": [
       "array([0., 0., 0., 0., 0., 0., 0., 0., 0., 0., 0., 0., 0., 0., 0., 0., 0.,\n",
       "       0., 0., 0., 0., 0., 0., 0., 0., 0., 0., 0., 0., 0., 0., 0., 0., 0.,\n",
       "       0., 0., 0., 0., 0., 0., 0., 0., 0., 0., 0., 0., 0., 0., 0., 0., 0.,\n",
       "       0., 0., 0., 0., 0., 0., 0., 0., 0., 0., 0., 0., 0., 0., 0., 0., 0.,\n",
       "       0., 0., 0., 0., 0., 0., 0., 0., 0., 0., 0., 0., 0., 0., 0., 0., 0.,\n",
       "       0., 0., 0., 0., 0., 0., 0., 0., 0., 0., 0., 0., 0., 0., 0., 0., 0.,\n",
       "       0., 0., 0., 0., 0., 0., 0., 0., 0., 0., 0., 0., 0., 0., 0., 0., 0.,\n",
       "       0., 0., 0., 0., 0., 0., 0., 0., 0., 0., 0., 0., 0., 0., 0., 0., 0.,\n",
       "       0., 0., 0., 0., 0., 0., 0., 0., 0., 0., 0., 0., 0., 0., 0., 0., 0.,\n",
       "       0., 0., 0., 0., 0., 0., 0., 0., 0., 0., 0., 0., 0., 0., 0., 0., 0.,\n",
       "       0., 0., 0., 0., 0., 0., 0., 0., 0., 0., 0., 0., 0., 0., 0., 0., 0.,\n",
       "       0., 0., 0., 0., 0., 0., 0., 0., 0., 0., 0., 0., 0., 0., 0., 0., 0.,\n",
       "       0., 0., 0., 0., 0., 0., 0., 0., 0., 0., 0., 0., 0., 0., 0., 0., 0.,\n",
       "       0., 0., 0., 0., 0., 0., 0., 0., 0., 0., 0., 0., 0., 0., 0., 0., 0.,\n",
       "       0., 0., 0., 0., 0., 0., 0., 0., 0., 0., 0., 0., 0., 0., 0., 0., 0.,\n",
       "       0., 0., 0., 0., 0., 0., 0., 0., 0., 0., 0., 0., 0., 0., 0., 0., 0.,\n",
       "       0., 0., 0., 0., 0., 0., 0., 0., 0., 0., 0., 0., 0., 0., 0., 0., 0.,\n",
       "       0., 0., 0., 0., 0., 0., 0., 0., 0., 0., 0.], dtype=float32)"
      ]
     },
     "execution_count": 54,
     "metadata": {},
     "output_type": "execute_result"
    }
   ],
   "source": [
    "bias"
   ]
  },
  {
   "cell_type": "code",
   "execution_count": 55,
   "metadata": {
    "execution": {
     "iopub.execute_input": "2024-11-29T09:11:40.255728Z",
     "iopub.status.busy": "2024-11-29T09:11:40.255478Z",
     "iopub.status.idle": "2024-11-29T09:11:40.258248Z",
     "shell.execute_reply": "2024-11-29T09:11:40.257682Z",
     "shell.execute_reply.started": "2024-11-29T09:11:40.255714Z"
    },
    "tags": []
   },
   "outputs": [
    {
     "name": "stdout",
     "output_type": "stream",
     "text": [
      "['/mnt/workspace', '/opt/conda/lib/python37.zip', '/opt/conda/lib/python3.7', '/opt/conda/lib/python3.7/lib-dynload', '', '/opt/conda/lib/python3.7/site-packages', '/opt/conda/lib/python3.7/site-packages/IPython/extensions', '/root/.ipython']\n"
     ]
    }
   ],
   "source": [
    "import sys\n",
    "print(sys.path)"
   ]
  },
  {
   "cell_type": "code",
   "execution_count": 56,
   "metadata": {
    "execution": {
     "iopub.execute_input": "2024-11-29T09:11:40.259088Z",
     "iopub.status.busy": "2024-11-29T09:11:40.258808Z",
     "iopub.status.idle": "2024-11-29T09:11:40.288942Z",
     "shell.execute_reply": "2024-11-29T09:11:40.288415Z",
     "shell.execute_reply.started": "2024-11-29T09:11:40.259072Z"
    },
    "tags": []
   },
   "outputs": [],
   "source": [
    "model.compile(loss=\"sparse_categorical_crossentropy\", optimizer=\"sgd\", metrics=[\"accuracy\"])"
   ]
  },
  {
   "cell_type": "code",
   "execution_count": 57,
   "metadata": {
    "ExecutionIndicator": {
     "show": true
    },
    "execution": {
     "iopub.execute_input": "2024-11-29T09:11:40.289787Z",
     "iopub.status.busy": "2024-11-29T09:11:40.289553Z",
     "iopub.status.idle": "2024-11-29T09:11:40.292080Z",
     "shell.execute_reply": "2024-11-29T09:11:40.291557Z",
     "shell.execute_reply.started": "2024-11-29T09:11:40.289768Z"
    },
    "tags": []
   },
   "outputs": [],
   "source": [
    "# history = model.fit(train_data_01, train_label, epochs=30, validation_data=(valid_data_01, valid_label))"
   ]
  },
  {
   "cell_type": "code",
   "execution_count": 58,
   "metadata": {
    "ExecutionIndicator": {
     "show": true
    },
    "execution": {
     "iopub.execute_input": "2024-11-29T09:11:40.292799Z",
     "iopub.status.busy": "2024-11-29T09:11:40.292618Z",
     "iopub.status.idle": "2024-11-29T09:11:40.294921Z",
     "shell.execute_reply": "2024-11-29T09:11:40.294446Z",
     "shell.execute_reply.started": "2024-11-29T09:11:40.292781Z"
    },
    "tags": []
   },
   "outputs": [],
   "source": [
    "#import pandas as pd"
   ]
  },
  {
   "cell_type": "code",
   "execution_count": 59,
   "metadata": {
    "ExecutionIndicator": {
     "show": true
    },
    "execution": {
     "iopub.execute_input": "2024-11-29T09:11:40.295693Z",
     "iopub.status.busy": "2024-11-29T09:11:40.295488Z",
     "iopub.status.idle": "2024-11-29T09:11:40.297649Z",
     "shell.execute_reply": "2024-11-29T09:11:40.297234Z",
     "shell.execute_reply.started": "2024-11-29T09:11:40.295679Z"
    },
    "tags": []
   },
   "outputs": [],
   "source": [
    "#import matplotlib.pyplot as plt"
   ]
  },
  {
   "cell_type": "code",
   "execution_count": 60,
   "metadata": {
    "ExecutionIndicator": {
     "show": true
    },
    "execution": {
     "iopub.execute_input": "2024-11-29T09:11:40.298441Z",
     "iopub.status.busy": "2024-11-29T09:11:40.298231Z",
     "iopub.status.idle": "2024-11-29T09:11:40.300689Z",
     "shell.execute_reply": "2024-11-29T09:11:40.300247Z",
     "shell.execute_reply.started": "2024-11-29T09:11:40.298426Z"
    },
    "tags": []
   },
   "outputs": [],
   "source": [
    "# 将训练历史转换为DataFrame\n",
    "# df = pd.DataFrame(history.history)\n",
    "# # 设置图表大小\n",
    "# plt.figure(figsize=(8, 5))\n",
    "# # 绘制DataFrame中的数据\n",
    "# df.plot()\n",
    "# # 添加标题和标签\n",
    "# plt.title('Model Training History')\n",
    "# plt.xlabel('Epochs')\n",
    "# plt.ylabel('Value')\n",
    "# # 显示网格\n",
    "# plt.grid(True)\n",
    "# # 显示图表\n",
    "# plt.show()"
   ]
  },
  {
   "cell_type": "code",
   "execution_count": 61,
   "metadata": {
    "ExecutionIndicator": {
     "show": true
    },
    "execution": {
     "iopub.execute_input": "2024-11-29T09:11:40.301467Z",
     "iopub.status.busy": "2024-11-29T09:11:40.301255Z",
     "iopub.status.idle": "2024-11-29T09:11:40.303438Z",
     "shell.execute_reply": "2024-11-29T09:11:40.303025Z",
     "shell.execute_reply.started": "2024-11-29T09:11:40.301452Z"
    },
    "tags": []
   },
   "outputs": [],
   "source": [
    "# model.save(\"keras_1128_fashion_recognize.h5\")"
   ]
  },
  {
   "cell_type": "code",
   "execution_count": 62,
   "metadata": {
    "execution": {
     "iopub.execute_input": "2024-11-29T09:11:40.304200Z",
     "iopub.status.busy": "2024-11-29T09:11:40.303996Z",
     "iopub.status.idle": "2024-11-29T09:11:40.613697Z",
     "shell.execute_reply": "2024-11-29T09:11:40.613047Z",
     "shell.execute_reply.started": "2024-11-29T09:11:40.304187Z"
    }
   },
   "outputs": [
    {
     "name": "stdout",
     "output_type": "stream",
     "text": [
      "WARNING:tensorflow:From /opt/conda/lib/python3.7/site-packages/tensorflow_core/python/ops/init_ops.py:97: calling GlorotUniform.__init__ (from tensorflow.python.ops.init_ops) with dtype is deprecated and will be removed in a future version.\n",
      "Instructions for updating:\n",
      "Call initializer instance with the dtype argument instead of passing it to the constructor\n",
      "WARNING:tensorflow:From /opt/conda/lib/python3.7/site-packages/tensorflow_core/python/ops/init_ops.py:97: calling Zeros.__init__ (from tensorflow.python.ops.init_ops) with dtype is deprecated and will be removed in a future version.\n",
      "Instructions for updating:\n",
      "Call initializer instance with the dtype argument instead of passing it to the constructor\n"
     ]
    }
   ],
   "source": [
    "model2 = keras.models.load_model('keras_1128_fashion_recognize.h5')"
   ]
  },
  {
   "cell_type": "code",
   "execution_count": 63,
   "metadata": {
    "ExecutionIndicator": {
     "show": true
    },
    "execution": {
     "iopub.execute_input": "2024-11-29T09:11:40.614752Z",
     "iopub.status.busy": "2024-11-29T09:11:40.614497Z",
     "iopub.status.idle": "2024-11-29T09:11:40.618017Z",
     "shell.execute_reply": "2024-11-29T09:11:40.617482Z",
     "shell.execute_reply.started": "2024-11-29T09:11:40.614724Z"
    },
    "tags": []
   },
   "outputs": [
    {
     "data": {
      "text/plain": [
       "(10000, 28, 28)"
      ]
     },
     "execution_count": 63,
     "metadata": {},
     "output_type": "execute_result"
    }
   ],
   "source": [
    "test_data.shape"
   ]
  },
  {
   "cell_type": "code",
   "execution_count": 64,
   "metadata": {
    "ExecutionIndicator": {
     "show": true
    },
    "execution": {
     "iopub.execute_input": "2024-11-29T09:11:40.618822Z",
     "iopub.status.busy": "2024-11-29T09:11:40.618582Z",
     "iopub.status.idle": "2024-11-29T09:11:40.621674Z",
     "shell.execute_reply": "2024-11-29T09:11:40.621252Z",
     "shell.execute_reply.started": "2024-11-29T09:11:40.618807Z"
    },
    "tags": []
   },
   "outputs": [
    {
     "data": {
      "text/plain": [
       "(3, 28, 28)"
      ]
     },
     "execution_count": 64,
     "metadata": {},
     "output_type": "execute_result"
    }
   ],
   "source": [
    "test_data[:3].shape"
   ]
  },
  {
   "cell_type": "code",
   "execution_count": 65,
   "metadata": {
    "ExecutionIndicator": {
     "show": true
    },
    "execution": {
     "iopub.execute_input": "2024-11-29T09:11:40.622521Z",
     "iopub.status.busy": "2024-11-29T09:11:40.622272Z",
     "iopub.status.idle": "2024-11-29T09:11:40.712579Z",
     "shell.execute_reply": "2024-11-29T09:11:40.712100Z",
     "shell.execute_reply.started": "2024-11-29T09:11:40.622506Z"
    },
    "tags": []
   },
   "outputs": [
    {
     "data": {
      "text/plain": [
       "array([[0., 0., 0., 0., 0., 0., 0., 0., 0., 1.],\n",
       "       [0., 0., 1., 0., 0., 0., 0., 0., 0., 0.],\n",
       "       [0., 1., 0., 0., 0., 0., 0., 0., 0., 0.]], dtype=float32)"
      ]
     },
     "execution_count": 65,
     "metadata": {},
     "output_type": "execute_result"
    }
   ],
   "source": [
    "model2.predict(test_data[:3])"
   ]
  },
  {
   "cell_type": "code",
   "execution_count": 66,
   "metadata": {
    "execution": {
     "iopub.execute_input": "2024-11-29T09:11:40.713476Z",
     "iopub.status.busy": "2024-11-29T09:11:40.713243Z",
     "iopub.status.idle": "2024-11-29T09:11:40.717400Z",
     "shell.execute_reply": "2024-11-29T09:11:40.716938Z",
     "shell.execute_reply.started": "2024-11-29T09:11:40.713460Z"
    }
   },
   "outputs": [],
   "source": [
    "predict_res = model2.predict(test_data[:3])"
   ]
  },
  {
   "cell_type": "code",
   "execution_count": 67,
   "metadata": {
    "ExecutionIndicator": {
     "show": true
    },
    "execution": {
     "iopub.execute_input": "2024-11-29T09:11:40.718205Z",
     "iopub.status.busy": "2024-11-29T09:11:40.717982Z",
     "iopub.status.idle": "2024-11-29T09:11:40.721112Z",
     "shell.execute_reply": "2024-11-29T09:11:40.720671Z",
     "shell.execute_reply.started": "2024-11-29T09:11:40.718191Z"
    },
    "tags": []
   },
   "outputs": [
    {
     "data": {
      "text/plain": [
       "'Pullover'"
      ]
     },
     "execution_count": 67,
     "metadata": {},
     "output_type": "execute_result"
    }
   ],
   "source": [
    "class_names[np.argmax(predict_res[1])]"
   ]
  },
  {
   "cell_type": "code",
   "execution_count": 68,
   "metadata": {
    "execution": {
     "iopub.execute_input": "2024-11-29T09:11:40.721845Z",
     "iopub.status.busy": "2024-11-29T09:11:40.721621Z",
     "iopub.status.idle": "2024-11-29T09:11:40.725100Z",
     "shell.execute_reply": "2024-11-29T09:11:40.724648Z",
     "shell.execute_reply.started": "2024-11-29T09:11:40.721831Z"
    }
   },
   "outputs": [
    {
     "data": {
      "text/plain": [
       "('Ankle boot', 'Pullover', 'Trouser')"
      ]
     },
     "execution_count": 68,
     "metadata": {},
     "output_type": "execute_result"
    }
   ],
   "source": [
    "class_names[np.argmax(predict_res[0])],class_names[np.argmax(predict_res[1])],class_names[np.argmax(predict_res[2])]"
   ]
  },
  {
   "cell_type": "code",
   "execution_count": 69,
   "metadata": {
    "execution": {
     "iopub.execute_input": "2024-11-29T09:11:40.725836Z",
     "iopub.status.busy": "2024-11-29T09:11:40.725615Z",
     "iopub.status.idle": "2024-11-29T09:11:41.639469Z",
     "shell.execute_reply": "2024-11-29T09:11:41.638158Z",
     "shell.execute_reply.started": "2024-11-29T09:11:40.725822Z"
    }
   },
   "outputs": [],
   "source": [
    "import zxlib"
   ]
  },
  {
   "cell_type": "code",
   "execution_count": 70,
   "metadata": {
    "ExecutionIndicator": {
     "show": true
    },
    "execution": {
     "iopub.execute_input": "2024-11-29T09:11:41.641288Z",
     "iopub.status.busy": "2024-11-29T09:11:41.640475Z",
     "iopub.status.idle": "2024-11-29T09:11:41.644889Z",
     "shell.execute_reply": "2024-11-29T09:11:41.644368Z",
     "shell.execute_reply.started": "2024-11-29T09:11:41.641263Z"
    },
    "tags": []
   },
   "outputs": [
    {
     "data": {
      "text/plain": [
       "'Hello, abc!'"
      ]
     },
     "execution_count": 70,
     "metadata": {},
     "output_type": "execute_result"
    }
   ],
   "source": [
    "zxlib.greet('abc')"
   ]
  },
  {
   "cell_type": "code",
   "execution_count": 71,
   "metadata": {
    "execution": {
     "iopub.execute_input": "2024-11-29T09:11:41.645753Z",
     "iopub.status.busy": "2024-11-29T09:11:41.645524Z",
     "iopub.status.idle": "2024-11-29T09:11:41.853372Z",
     "shell.execute_reply": "2024-11-29T09:11:41.852820Z",
     "shell.execute_reply.started": "2024-11-29T09:11:41.645733Z"
    }
   },
   "outputs": [
    {
     "data": {
      "image/png": "[encoded data removed]",
      "text/plain": [
       "<Figure size 200x200 with 1 Axes>"
      ]
     },
     "metadata": {},
     "output_type": "display_data"
    }
   ],
   "source": [
    "zxlib.paint(test_data[0])"
   ]
  },
  {
   "cell_type": "code",
   "execution_count": 72,
   "metadata": {
    "execution": {
     "iopub.execute_input": "2024-11-29T09:11:41.854442Z",
     "iopub.status.busy": "2024-11-29T09:11:41.854179Z",
     "iopub.status.idle": "2024-11-29T09:11:41.907434Z",
     "shell.execute_reply": "2024-11-29T09:11:41.906933Z",
     "shell.execute_reply.started": "2024-11-29T09:11:41.854424Z"
    }
   },
   "outputs": [
    {
     "data": {
      "image/png": "[encoded data removed]",
      "text/plain": [
       "<Figure size 200x200 with 1 Axes>"
      ]
     },
     "metadata": {},
     "output_type": "display_data"
    }
   ],
   "source": [
    "zxlib.paint(test_data[1])"
   ]
  },
  {
   "cell_type": "code",
   "execution_count": 73,
   "metadata": {
    "execution": {
     "iopub.execute_input": "2024-11-29T09:11:41.908353Z",
     "iopub.status.busy": "2024-11-29T09:11:41.908129Z",
     "iopub.status.idle": "2024-11-29T09:11:41.975578Z",
     "shell.execute_reply": "2024-11-29T09:11:41.975060Z",
     "shell.execute_reply.started": "2024-11-29T09:11:41.908337Z"
    }
   },
   "outputs": [
    {
     "data": {
      "image/png": "[encoded data removed]",
      "text/plain": [
       "<Figure size 200x200 with 1 Axes>"
      ]
     },
     "metadata": {},
     "output_type": "display_data"
    }
   ],
   "source": [
    "zxlib.paint(test_data[2])"
   ]
  },
  {
   "cell_type": "code",
   "execution_count": 74,
   "metadata": {
    "ExecutionIndicator": {
     "show": true
    },
    "execution": {
     "iopub.execute_input": "2024-11-29T09:11:41.976479Z",
     "iopub.status.busy": "2024-11-29T09:11:41.976251Z",
     "iopub.status.idle": "2024-11-29T09:11:41.978915Z",
     "shell.execute_reply": "2024-11-29T09:11:41.978436Z",
     "shell.execute_reply.started": "2024-11-29T09:11:41.976463Z"
    },
    "tags": []
   },
   "outputs": [],
   "source": [
    "import importlib"
   ]
  },
  {
   "cell_type": "code",
   "execution_count": 75,
   "metadata": {
    "execution": {
     "iopub.execute_input": "2024-11-29T09:11:41.979760Z",
     "iopub.status.busy": "2024-11-29T09:11:41.979549Z",
     "iopub.status.idle": "2024-11-29T09:11:42.042041Z",
     "shell.execute_reply": "2024-11-29T09:11:42.041540Z",
     "shell.execute_reply.started": "2024-11-29T09:11:41.979744Z"
    }
   },
   "outputs": [
    {
     "data": {
      "text/plain": [
       "<module 'zxlib' from '/mnt/workspace/zxlib.py'>"
      ]
     },
     "execution_count": 75,
     "metadata": {},
     "output_type": "execute_result"
    }
   ],
   "source": [
    "importlib.reload(zxlib)"
   ]
  },
  {
   "cell_type": "code",
   "execution_count": 76,
   "metadata": {
    "execution": {
     "iopub.execute_input": "2024-11-29T09:11:42.042917Z",
     "iopub.status.busy": "2024-11-29T09:11:42.042652Z",
     "iopub.status.idle": "2024-11-29T09:11:42.095879Z",
     "shell.execute_reply": "2024-11-29T09:11:42.095372Z",
     "shell.execute_reply.started": "2024-11-29T09:11:42.042888Z"
    }
   },
   "outputs": [
    {
     "data": {
      "image/png": "[encoded data removed]",
      "text/plain": [
       "<Figure size 200x200 with 1 Axes>"
      ]
     },
     "metadata": {},
     "output_type": "display_data"
    }
   ],
   "source": [
    "zxlib.paint(test_data[0])"
   ]
  },
  {
   "cell_type": "code",
   "execution_count": 77,
   "metadata": {
    "execution": {
     "iopub.execute_input": "2024-11-29T09:11:42.096767Z",
     "iopub.status.busy": "2024-11-29T09:11:42.096527Z",
     "iopub.status.idle": "2024-11-29T09:11:42.194856Z",
     "shell.execute_reply": "2024-11-29T09:11:42.194336Z",
     "shell.execute_reply.started": "2024-11-29T09:11:42.096750Z"
    }
   },
   "outputs": [
    {
     "data": {
      "image/png": "[encoded data removed]",
      "text/plain": [
       "<Figure size 200x200 with 1 Axes>"
      ]
     },
     "metadata": {},
     "output_type": "display_data"
    }
   ],
   "source": [
    "zxlib.paint(test_data[1])"
   ]
  },
  {
   "cell_type": "code",
   "execution_count": 78,
   "metadata": {
    "ExecutionIndicator": {
     "show": true
    },
    "execution": {
     "iopub.execute_input": "2024-11-29T09:11:42.195783Z",
     "iopub.status.busy": "2024-11-29T09:11:42.195532Z",
     "iopub.status.idle": "2024-11-29T09:11:42.700430Z",
     "shell.execute_reply": "2024-11-29T09:11:42.699836Z",
     "shell.execute_reply.started": "2024-11-29T09:11:42.195766Z"
    },
    "tags": []
   },
   "outputs": [],
   "source": [
    "from sklearn.datasets import fetch_california_housing"
   ]
  },
  {
   "cell_type": "code",
   "execution_count": 79,
   "metadata": {
    "execution": {
     "iopub.execute_input": "2024-11-29T09:11:42.701432Z",
     "iopub.status.busy": "2024-11-29T09:11:42.701179Z",
     "iopub.status.idle": "2024-11-29T09:11:42.703845Z",
     "shell.execute_reply": "2024-11-29T09:11:42.703390Z",
     "shell.execute_reply.started": "2024-11-29T09:11:42.701415Z"
    }
   },
   "outputs": [],
   "source": [
    "import sklearn"
   ]
  },
  {
   "cell_type": "code",
   "execution_count": 80,
   "metadata": {
    "ExecutionIndicator": {
     "show": true
    },
    "execution": {
     "iopub.execute_input": "2024-11-29T09:11:42.704722Z",
     "iopub.status.busy": "2024-11-29T09:11:42.704473Z",
     "iopub.status.idle": "2024-11-29T09:11:42.707730Z",
     "shell.execute_reply": "2024-11-29T09:11:42.707125Z",
     "shell.execute_reply.started": "2024-11-29T09:11:42.704705Z"
    },
    "tags": []
   },
   "outputs": [
    {
     "data": {
      "text/plain": [
       "'1.0.2'"
      ]
     },
     "execution_count": 80,
     "metadata": {},
     "output_type": "execute_result"
    }
   ],
   "source": [
    "sklearn.__version__"
   ]
  },
  {
   "cell_type": "code",
   "execution_count": 81,
   "metadata": {
    "execution": {
     "iopub.execute_input": "2024-11-29T09:11:42.708574Z",
     "iopub.status.busy": "2024-11-29T09:11:42.708354Z",
     "iopub.status.idle": "2024-11-29T09:11:45.136880Z",
     "shell.execute_reply": "2024-11-29T09:11:45.136141Z",
     "shell.execute_reply.started": "2024-11-29T09:11:42.708559Z"
    }
   },
   "outputs": [],
   "source": [
    "housing = fetch_california_housing()"
   ]
  },
  {
   "cell_type": "code",
   "execution_count": 82,
   "metadata": {
    "execution": {
     "iopub.execute_input": "2024-11-29T09:11:45.142876Z",
     "iopub.status.busy": "2024-11-29T09:11:45.142615Z",
     "iopub.status.idle": "2024-11-29T09:11:45.186293Z",
     "shell.execute_reply": "2024-11-29T09:11:45.185822Z",
     "shell.execute_reply.started": "2024-11-29T09:11:45.142858Z"
    }
   },
   "outputs": [],
   "source": [
    "from sklearn.model_selection import train_test_split"
   ]
  },
  {
   "cell_type": "code",
   "execution_count": 83,
   "metadata": {
    "ExecutionIndicator": {
     "show": true
    },
    "execution": {
     "iopub.execute_input": "2024-11-29T09:11:45.187139Z",
     "iopub.status.busy": "2024-11-29T09:11:45.186898Z",
     "iopub.status.idle": "2024-11-29T09:11:45.189536Z",
     "shell.execute_reply": "2024-11-29T09:11:45.188995Z",
     "shell.execute_reply.started": "2024-11-29T09:11:45.187122Z"
    },
    "tags": []
   },
   "outputs": [],
   "source": [
    "from sklearn.preprocessing import StandardScaler"
   ]
  },
  {
   "cell_type": "code",
   "execution_count": 84,
   "metadata": {
    "execution": {
     "iopub.execute_input": "2024-11-29T09:11:45.190291Z",
     "iopub.status.busy": "2024-11-29T09:11:45.190101Z",
     "iopub.status.idle": "2024-11-29T09:11:45.193939Z",
     "shell.execute_reply": "2024-11-29T09:11:45.193444Z",
     "shell.execute_reply.started": "2024-11-29T09:11:45.190276Z"
    }
   },
   "outputs": [],
   "source": [
    "train_data_full, test_data, train_label_full, test_label = train_test_split(housing.data, housing.target)"
   ]
  },
  {
   "cell_type": "code",
   "execution_count": 85,
   "metadata": {
    "execution": {
     "iopub.execute_input": "2024-11-29T09:11:45.194719Z",
     "iopub.status.busy": "2024-11-29T09:11:45.194502Z",
     "iopub.status.idle": "2024-11-29T09:11:45.198050Z",
     "shell.execute_reply": "2024-11-29T09:11:45.197475Z",
     "shell.execute_reply.started": "2024-11-29T09:11:45.194704Z"
    }
   },
   "outputs": [],
   "source": [
    "train_data, valid_data, train_label, valid_label = train_test_split(train_data_full, train_label_full)"
   ]
  },
  {
   "cell_type": "code",
   "execution_count": 96,
   "metadata": {
    "execution": {
     "iopub.execute_input": "2024-11-29T09:13:37.175962Z",
     "iopub.status.busy": "2024-11-29T09:13:37.175598Z",
     "iopub.status.idle": "2024-11-29T09:13:37.179394Z",
     "shell.execute_reply": "2024-11-29T09:13:37.178879Z",
     "shell.execute_reply.started": "2024-11-29T09:13:37.175942Z"
    }
   },
   "outputs": [
    {
     "data": {
      "text/plain": [
       "(11610, 8)"
      ]
     },
     "execution_count": 96,
     "metadata": {},
     "output_type": "execute_result"
    }
   ],
   "source": [
    "train_data.shape"
   ]
  },
  {
   "cell_type": "code",
   "execution_count": 86,
   "metadata": {
    "execution": {
     "iopub.execute_input": "2024-11-29T09:11:45.198986Z",
     "iopub.status.busy": "2024-11-29T09:11:45.198610Z",
     "iopub.status.idle": "2024-11-29T09:11:45.200972Z",
     "shell.execute_reply": "2024-11-29T09:11:45.200520Z",
     "shell.execute_reply.started": "2024-11-29T09:11:45.198970Z"
    }
   },
   "outputs": [],
   "source": [
    "scaler = StandardScaler()"
   ]
  },
  {
   "cell_type": "code",
   "execution_count": 87,
   "metadata": {
    "execution": {
     "iopub.execute_input": "2024-11-29T09:11:45.201690Z",
     "iopub.status.busy": "2024-11-29T09:11:45.201471Z",
     "iopub.status.idle": "2024-11-29T09:11:45.205990Z",
     "shell.execute_reply": "2024-11-29T09:11:45.205541Z",
     "shell.execute_reply.started": "2024-11-29T09:11:45.201675Z"
    }
   },
   "outputs": [],
   "source": [
    "train_data_scaled = scaler.fit_transform(train_data)"
   ]
  },
  {
   "cell_type": "code",
   "execution_count": 88,
   "metadata": {
    "ExecutionIndicator": {
     "show": true
    },
    "execution": {
     "iopub.execute_input": "2024-11-29T09:11:45.206763Z",
     "iopub.status.busy": "2024-11-29T09:11:45.206507Z",
     "iopub.status.idle": "2024-11-29T09:11:45.209053Z",
     "shell.execute_reply": "2024-11-29T09:11:45.208596Z",
     "shell.execute_reply.started": "2024-11-29T09:11:45.206748Z"
    },
    "tags": []
   },
   "outputs": [],
   "source": [
    "valid_data_scaled = scaler.transform(valid_data)"
   ]
  },
  {
   "cell_type": "code",
   "execution_count": 89,
   "metadata": {
    "execution": {
     "iopub.execute_input": "2024-11-29T09:11:45.209783Z",
     "iopub.status.busy": "2024-11-29T09:11:45.209573Z",
     "iopub.status.idle": "2024-11-29T09:11:45.212037Z",
     "shell.execute_reply": "2024-11-29T09:11:45.211606Z",
     "shell.execute_reply.started": "2024-11-29T09:11:45.209768Z"
    }
   },
   "outputs": [],
   "source": [
    "test_data_scaled = scaler.transform(test_data)"
   ]
  },
  {
   "cell_type": "code",
   "execution_count": 90,
   "metadata": {
    "execution": {
     "iopub.execute_input": "2024-11-29T09:11:45.212850Z",
     "iopub.status.busy": "2024-11-29T09:11:45.212629Z",
     "iopub.status.idle": "2024-11-29T09:11:45.240713Z",
     "shell.execute_reply": "2024-11-29T09:11:45.240183Z",
     "shell.execute_reply.started": "2024-11-29T09:11:45.212836Z"
    },
    "tags": []
   },
   "outputs": [],
   "source": [
    "model_reg = keras.models.Sequential([\n",
    "    keras.layers.Dense(30, activation=\"relu\", input_shape=train_data.shape[1:]),\n",
    "    keras.layers.Dense(1)\n",
    "])"
   ]
  },
  {
   "cell_type": "code",
   "execution_count": 91,
   "metadata": {
    "execution": {
     "iopub.execute_input": "2024-11-29T09:11:45.241581Z",
     "iopub.status.busy": "2024-11-29T09:11:45.241367Z",
     "iopub.status.idle": "2024-11-29T09:11:45.252972Z",
     "shell.execute_reply": "2024-11-29T09:11:45.252518Z",
     "shell.execute_reply.started": "2024-11-29T09:11:45.241555Z"
    }
   },
   "outputs": [],
   "source": [
    "model_reg.compile(loss=\"mean_squared_error\", optimizer=\"sgd\")"
   ]
  },
  {
   "cell_type": "code",
   "execution_count": 92,
   "metadata": {
    "ExecutionIndicator": {
     "show": false
    },
    "execution": {
     "iopub.execute_input": "2024-11-29T09:11:45.253790Z",
     "iopub.status.busy": "2024-11-29T09:11:45.253517Z",
     "iopub.status.idle": "2024-11-29T09:11:48.873335Z",
     "shell.execute_reply": "2024-11-29T09:11:48.872803Z",
     "shell.execute_reply.started": "2024-11-29T09:11:45.253775Z"
    },
    "tags": []
   },
   "outputs": [
    {
     "name": "stdout",
     "output_type": "stream",
     "text": [
      "Train on 11610 samples, validate on 3870 samples\n",
      "Epoch 1/20\n",
      "11610/11610 [==============================] - 0s 23us/sample - loss: 1.2559 - val_loss: 0.5265\n",
      "Epoch 2/20\n",
      "11610/11610 [==============================] - 0s 14us/sample - loss: 0.5149 - val_loss: 0.6310\n",
      "Epoch 3/20\n",
      "11610/11610 [==============================] - 0s 14us/sample - loss: 0.5033 - val_loss: 0.4540\n",
      "Epoch 4/20\n",
      "11610/11610 [==============================] - 0s 15us/sample - loss: 0.4672 - val_loss: 0.4372\n",
      "Epoch 5/20\n",
      "11610/11610 [==============================] - 0s 15us/sample - loss: 0.4512 - val_loss: 0.4266\n",
      "Epoch 6/20\n",
      "11610/11610 [==============================] - 0s 15us/sample - loss: 0.4335 - val_loss: 0.4130\n",
      "Epoch 7/20\n",
      "11610/11610 [==============================] - 0s 15us/sample - loss: 0.4232 - val_loss: 0.4089\n",
      "Epoch 8/20\n",
      "11610/11610 [==============================] - 0s 16us/sample - loss: 0.4187 - val_loss: 0.4066\n",
      "Epoch 9/20\n",
      "11610/11610 [==============================] - 0s 15us/sample - loss: 0.4128 - val_loss: 0.3958\n",
      "Epoch 10/20\n",
      "11610/11610 [==============================] - 0s 16us/sample - loss: 0.4065 - val_loss: 0.3901\n",
      "Epoch 11/20\n",
      "11610/11610 [==============================] - 0s 16us/sample - loss: 0.4023 - val_loss: 0.3845\n",
      "Epoch 12/20\n",
      "11610/11610 [==============================] - 0s 14us/sample - loss: 0.4009 - val_loss: 0.3840\n",
      "Epoch 13/20\n",
      "11610/11610 [==============================] - 0s 15us/sample - loss: 0.3959 - val_loss: 0.3780\n",
      "Epoch 14/20\n",
      "11610/11610 [==============================] - 0s 15us/sample - loss: 0.3957 - val_loss: 0.3825\n",
      "Epoch 15/20\n",
      "11610/11610 [==============================] - 0s 14us/sample - loss: 0.3929 - val_loss: 0.3746\n",
      "Epoch 16/20\n",
      "11610/11610 [==============================] - 0s 15us/sample - loss: 0.3874 - val_loss: 0.3802\n",
      "Epoch 17/20\n",
      "11610/11610 [==============================] - 0s 15us/sample - loss: 0.3843 - val_loss: 0.3696\n",
      "Epoch 18/20\n",
      "11610/11610 [==============================] - 0s 14us/sample - loss: 0.3818 - val_loss: 0.3644\n",
      "Epoch 19/20\n",
      "11610/11610 [==============================] - 0s 15us/sample - loss: 0.3799 - val_loss: 0.3630\n",
      "Epoch 20/20\n",
      "11610/11610 [==============================] - 0s 14us/sample - loss: 0.3774 - val_loss: 0.3728\n"
     ]
    }
   ],
   "source": [
    "model_reg_history = model_reg.fit(train_data_scaled, train_label, epochs=20, \n",
    "                                  validation_data=(valid_data_scaled, valid_label))"
   ]
  },
  {
   "cell_type": "code",
   "execution_count": 97,
   "metadata": {
    "ExecutionIndicator": {
     "show": true
    },
    "execution": {
     "iopub.execute_input": "2024-11-29T09:14:25.859267Z",
     "iopub.status.busy": "2024-11-29T09:14:25.858918Z",
     "iopub.status.idle": "2024-11-29T09:14:25.892620Z",
     "shell.execute_reply": "2024-11-29T09:14:25.892019Z",
     "shell.execute_reply.started": "2024-11-29T09:14:25.859248Z"
    },
    "tags": []
   },
   "outputs": [
    {
     "name": "stdout",
     "output_type": "stream",
     "text": [
      "5160/5160 [==============================] - 0s 6us/sample - loss: 0.3809\n"
     ]
    }
   ],
   "source": [
    "mse_test = model_reg.evaluate(test_data_scaled, test_label)"
   ]
  },
  {
   "cell_type": "code",
   "execution_count": 95,
   "metadata": {
    "ExecutionIndicator": {
     "show": true
    },
    "execution": {
     "iopub.execute_input": "2024-11-29T09:12:33.058458Z",
     "iopub.status.busy": "2024-11-29T09:12:33.058118Z",
     "iopub.status.idle": "2024-11-29T09:12:33.061819Z",
     "shell.execute_reply": "2024-11-29T09:12:33.061355Z",
     "shell.execute_reply.started": "2024-11-29T09:12:33.058438Z"
    },
    "tags": []
   },
   "outputs": [
    {
     "data": {
      "text/plain": [
       "(8,)"
      ]
     },
     "execution_count": 95,
     "metadata": {},
     "output_type": "execute_result"
    }
   ],
   "source": [
    "train_data.shape[1:]"
   ]
  },
  {
   "cell_type": "code",
   "execution_count": 98,
   "metadata": {
    "execution": {
     "iopub.execute_input": "2024-11-29T09:17:17.719565Z",
     "iopub.status.busy": "2024-11-29T09:17:17.719232Z",
     "iopub.status.idle": "2024-11-29T09:17:17.722275Z",
     "shell.execute_reply": "2024-11-29T09:17:17.721779Z",
     "shell.execute_reply.started": "2024-11-29T09:17:17.719545Z"
    }
   },
   "outputs": [],
   "source": [
    "train_data_03 = train_data[:3]"
   ]
  },
  {
   "cell_type": "code",
   "execution_count": 99,
   "metadata": {
    "execution": {
     "iopub.execute_input": "2024-11-29T09:17:21.889237Z",
     "iopub.status.busy": "2024-11-29T09:17:21.888871Z",
     "iopub.status.idle": "2024-11-29T09:17:21.893033Z",
     "shell.execute_reply": "2024-11-29T09:17:21.892479Z",
     "shell.execute_reply.started": "2024-11-29T09:17:21.889216Z"
    }
   },
   "outputs": [
    {
     "data": {
      "text/plain": [
       "array([[ 2.44210000e+00,  9.00000000e+00,  3.34499314e+00,\n",
       "         1.02057613e+00,  4.48600000e+03,  3.07681756e+00,\n",
       "         3.41400000e+01, -1.18240000e+02],\n",
       "       [ 2.12050000e+00,  1.60000000e+01,  5.57992565e+00,\n",
       "         1.09851301e+00,  8.42000000e+02,  1.56505576e+00,\n",
       "         3.31800000e+01, -1.17280000e+02],\n",
       "       [ 4.13460000e+00,  2.60000000e+01,  5.62650602e+00,\n",
       "         1.12048193e+00,  2.44000000e+02,  2.93975904e+00,\n",
       "         3.74800000e+01, -1.21020000e+02]])"
      ]
     },
     "execution_count": 99,
     "metadata": {},
     "output_type": "execute_result"
    }
   ],
   "source": [
    "train_data_03"
   ]
  },
  {
   "cell_type": "code",
   "execution_count": 100,
   "metadata": {
    "execution": {
     "iopub.execute_input": "2024-11-29T09:17:49.674005Z",
     "iopub.status.busy": "2024-11-29T09:17:49.673631Z",
     "iopub.status.idle": "2024-11-29T09:17:49.696501Z",
     "shell.execute_reply": "2024-11-29T09:17:49.696020Z",
     "shell.execute_reply.started": "2024-11-29T09:17:49.673982Z"
    }
   },
   "outputs": [
    {
     "data": {
      "text/plain": [
       "array([[249.06268 ],\n",
       "       [101.746254],\n",
       "       [151.50803 ]], dtype=float32)"
      ]
     },
     "execution_count": 100,
     "metadata": {},
     "output_type": "execute_result"
    }
   ],
   "source": [
    "model_reg.predict(train_data_03)"
   ]
  },
  {
   "cell_type": "code",
   "execution_count": null,
   "metadata": {},
   "outputs": [],
   "source": []
  }
 ],
 "metadata": {
  "colab": {
   "provenance": []
  },
  "kernelspec": {
   "display_name": "Python 3 (ipykernel)",
   "language": "python",
   "name": "python3"
  },
  "language_info": {
   "codemirror_mode": {
    "name": "ipython",
    "version": 3
   },
   "file_extension": ".py",
   "mimetype": "text/x-python",
   "name": "python",
   "nbconvert_exporter": "python",
   "pygments_lexer": "ipython3",
   "version": "3.10.14"
  },
  "nav_menu": {
   "height": "264px",
   "width": "369px"
  },
  "toc": {
   "navigate_menu": true,
   "number_sections": true,
   "sideBar": true,
   "threshold": 6,
   "toc_cell": false,
   "toc_section_display": "block",
   "toc_window_display": false
  }
 },
 "nbformat": 4,
 "nbformat_minor": 4
}
