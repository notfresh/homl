{
 "cells": [
  {
   "cell_type": "code",
   "execution_count": 4,
   "metadata": {
    "ExecutionIndicator": {
     "show": true
    },
    "execution": {
     "iopub.execute_input": "2024-12-24T03:25:11.988957Z",
     "iopub.status.busy": "2024-12-24T03:25:11.988636Z",
     "iopub.status.idle": "2024-12-24T03:25:13.271819Z",
     "shell.execute_reply": "2024-12-24T03:25:13.271321Z",
     "shell.execute_reply.started": "2024-12-24T03:25:11.988937Z"
    },
    "id": "OTxpPbCd1d2t",
    "tags": []
   },
   "outputs": [],
   "source": [
    "import pandas as pd\n",
    "import numpy as np\n",
    "import matplotlib.pyplot as plt\n",
    "\n",
    "import sklearn\n",
    "assert sklearn.__version__ >= \"0.20\"\n"
   ]
  },
  {
   "cell_type": "code",
   "execution_count": 5,
   "metadata": {
    "ExecutionIndicator": {
     "show": true
    },
    "execution": {
     "iopub.execute_input": "2024-12-24T03:25:13.273023Z",
     "iopub.status.busy": "2024-12-24T03:25:13.272692Z",
     "iopub.status.idle": "2024-12-24T03:25:29.330440Z",
     "shell.execute_reply": "2024-12-24T03:25:29.329895Z",
     "shell.execute_reply.started": "2024-12-24T03:25:13.272998Z"
    },
    "id": "Nb_dkq0X17s0",
    "tags": []
   },
   "outputs": [],
   "source": [
    "from sklearn.datasets import fetch_openml\n",
    "mnist = fetch_openml('mnist_784', version=1)"
   ]
  },
  {
   "cell_type": "code",
   "execution_count": 6,
   "metadata": {
    "colab": {
     "base_uri": "https://localhost:8080/",
     "height": 187
    },
    "execution": {
     "iopub.execute_input": "2024-12-24T03:25:29.331284Z",
     "iopub.status.busy": "2024-12-24T03:25:29.331034Z",
     "iopub.status.idle": "2024-12-24T03:25:29.335903Z",
     "shell.execute_reply": "2024-12-24T03:25:29.335433Z",
     "shell.execute_reply.started": "2024-12-24T03:25:29.331265Z"
    },
    "id": "LotQf2iF2R0V",
    "outputId": "ada98d96-e5df-47f3-dfab-c4d652b76a4e",
    "tags": []
   },
   "outputs": [
    {
     "data": {
      "text/plain": [
       "sklearn.utils._bunch.Bunch"
      ]
     },
     "execution_count": 6,
     "metadata": {},
     "output_type": "execute_result"
    }
   ],
   "source": [
    "type(mnist)"
   ]
  },
  {
   "cell_type": "code",
   "execution_count": 7,
   "metadata": {
    "ExecutionIndicator": {
     "show": true
    },
    "colab": {
     "base_uri": "https://localhost:8080/"
    },
    "execution": {
     "iopub.execute_input": "2024-12-24T03:25:29.336565Z",
     "iopub.status.busy": "2024-12-24T03:25:29.336360Z",
     "iopub.status.idle": "2024-12-24T03:25:29.339251Z",
     "shell.execute_reply": "2024-12-24T03:25:29.338870Z",
     "shell.execute_reply.started": "2024-12-24T03:25:29.336534Z"
    },
    "id": "cLt3eM7958by",
    "outputId": "afff6c70-2137-4786-f14d-6fe71ff0b9df",
    "tags": []
   },
   "outputs": [
    {
     "data": {
      "text/plain": [
       "dict_keys(['data', 'target', 'frame', 'categories', 'feature_names', 'target_names', 'DESCR', 'details', 'url'])"
      ]
     },
     "execution_count": 7,
     "metadata": {},
     "output_type": "execute_result"
    }
   ],
   "source": [
    "mnist.keys() # dict_keys(['data', 'target', 'frame', 'categories', 'feature_names', 'target_names', 'DESCR', 'details', 'url'])"
   ]
  },
  {
   "cell_type": "code",
   "execution_count": 8,
   "metadata": {
    "execution": {
     "iopub.execute_input": "2024-12-24T03:25:29.340473Z",
     "iopub.status.busy": "2024-12-24T03:25:29.340246Z",
     "iopub.status.idle": "2024-12-24T03:25:29.347608Z",
     "shell.execute_reply": "2024-12-24T03:25:29.342264Z",
     "shell.execute_reply.started": "2024-12-24T03:25:29.340458Z"
    },
    "id": "K9ecLkfk7n5H",
    "tags": []
   },
   "outputs": [],
   "source": [
    "digit1 = mnist['data'].loc[0]"
   ]
  },
  {
   "cell_type": "code",
   "execution_count": 9,
   "metadata": {
    "colab": {
     "base_uri": "https://localhost:8080/",
     "height": 204
    },
    "execution": {
     "iopub.execute_input": "2024-12-24T03:25:29.348232Z",
     "iopub.status.busy": "2024-12-24T03:25:29.348053Z",
     "iopub.status.idle": "2024-12-24T03:25:29.351884Z",
     "shell.execute_reply": "2024-12-24T03:25:29.351287Z",
     "shell.execute_reply.started": "2024-12-24T03:25:29.348214Z"
    },
    "id": "SclrJ6R6Fg8m",
    "outputId": "86806331-429e-4e2f-a189-fcd0406e76bf",
    "tags": []
   },
   "outputs": [
    {
     "data": {
      "text/plain": [
       "pandas.core.series.Series"
      ]
     },
     "execution_count": 9,
     "metadata": {},
     "output_type": "execute_result"
    }
   ],
   "source": [
    "type(digit1)"
   ]
  },
  {
   "cell_type": "code",
   "execution_count": 10,
   "metadata": {
    "execution": {
     "iopub.execute_input": "2024-12-24T03:25:29.352884Z",
     "iopub.status.busy": "2024-12-24T03:25:29.352597Z",
     "iopub.status.idle": "2024-12-24T03:25:29.355709Z",
     "shell.execute_reply": "2024-12-24T03:25:29.355093Z",
     "shell.execute_reply.started": "2024-12-24T03:25:29.352864Z"
    },
    "id": "8p-uv57G7scm",
    "tags": []
   },
   "outputs": [],
   "source": [
    "arr1 = digit1.values"
   ]
  },
  {
   "cell_type": "code",
   "execution_count": 11,
   "metadata": {
    "colab": {
     "base_uri": "https://localhost:8080/"
    },
    "execution": {
     "iopub.execute_input": "2024-12-24T03:25:29.356618Z",
     "iopub.status.busy": "2024-12-24T03:25:29.356414Z",
     "iopub.status.idle": "2024-12-24T03:25:29.359595Z",
     "shell.execute_reply": "2024-12-24T03:25:29.359174Z",
     "shell.execute_reply.started": "2024-12-24T03:25:29.356599Z"
    },
    "id": "iZaX59Y_8pFi",
    "outputId": "a65f4bbf-59cd-4b6b-8b0d-f4558e58d677",
    "tags": []
   },
   "outputs": [
    {
     "data": {
      "text/plain": [
       "numpy.ndarray"
      ]
     },
     "execution_count": 11,
     "metadata": {},
     "output_type": "execute_result"
    }
   ],
   "source": [
    "type(arr1)"
   ]
  },
  {
   "cell_type": "code",
   "execution_count": 12,
   "metadata": {
    "execution": {
     "iopub.execute_input": "2024-12-24T03:25:29.360321Z",
     "iopub.status.busy": "2024-12-24T03:25:29.360080Z",
     "iopub.status.idle": "2024-12-24T03:25:29.362353Z",
     "shell.execute_reply": "2024-12-24T03:25:29.361910Z",
     "shell.execute_reply.started": "2024-12-24T03:25:29.360306Z"
    },
    "id": "740Auzyi9iBz",
    "tags": []
   },
   "outputs": [],
   "source": [
    "arr1_reshape = arr1.reshape(28,28)"
   ]
  },
  {
   "cell_type": "code",
   "execution_count": 13,
   "metadata": {
    "ExecutionIndicator": {
     "show": true
    },
    "execution": {
     "iopub.execute_input": "2024-12-24T03:25:29.363021Z",
     "iopub.status.busy": "2024-12-24T03:25:29.362777Z",
     "iopub.status.idle": "2024-12-24T03:25:29.457944Z",
     "shell.execute_reply": "2024-12-24T03:25:29.457414Z",
     "shell.execute_reply.started": "2024-12-24T03:25:29.363005Z"
    },
    "id": "xLgPjymw-YkN",
    "tags": []
   },
   "outputs": [
    {
     "data": {
      "text/plain": [
       "<matplotlib.image.AxesImage at 0x7eff50defdf0>"
      ]
     },
     "execution_count": 13,
     "metadata": {},
     "output_type": "execute_result"
    },
    {
     "data": {
      "image/png": "[encoded data removed]",
      "text/plain": [
       "<Figure size 640x480 with 1 Axes>"
      ]
     },
     "metadata": {},
     "output_type": "display_data"
    }
   ],
   "source": [
    "plt.imshow(arr1_reshape, cmap='binary')"
   ]
  },
  {
   "cell_type": "code",
   "execution_count": 14,
   "metadata": {
    "ExecutionIndicator": {
     "show": true
    },
    "execution": {
     "iopub.execute_input": "2024-12-24T03:25:29.458838Z",
     "iopub.status.busy": "2024-12-24T03:25:29.458594Z",
     "iopub.status.idle": "2024-12-24T03:25:29.465093Z",
     "shell.execute_reply": "2024-12-24T03:25:29.464667Z",
     "shell.execute_reply.started": "2024-12-24T03:25:29.458821Z"
    },
    "id": "vGtPtt6yFS0v",
    "tags": []
   },
   "outputs": [],
   "source": [
    "def pick_a_digit(row):\n",
    "  digit = mnist['target'].loc[row]\n",
    "  print(\"the digit at \", row ,\" is \", mnist['target'].loc[row])\n",
    "  return digit\n",
    "\n",
    "def show_a_digit(row):\n",
    "  num_data = mnist['data'].loc[row]\n",
    "  num2d = num_data.values.reshape(28,28)\n",
    "  plt.imshow(num2d, cmap='binary')\n",
    "    \n",
    "def pick_and_show_a_digit(row):\n",
    "    digit = mnist['data'].loc[row]\n",
    "    arr1_reshape = digit.values.reshape(28,28)\n",
    "    print(\"at row \", row, \"is \", mnist['target'].loc[row])\n",
    "    plt.imshow(arr1_reshape, cmap='binary')\n",
    "    return digit\n",
    "\n",
    "def plot_digits(instances, images_per_row=10, **options):\n",
    "    size = 28\n",
    "    images_per_row = min(len(instances), images_per_row)\n",
    "    # This is equivalent to n_rows = ceil(len(instances) / images_per_row):\n",
    "    n_rows = (len(instances) - 1) // images_per_row + 1\n",
    "\n",
    "    # Append empty images to fill the end of the grid, if needed:\n",
    "    n_empty = n_rows * images_per_row - len(instances)\n",
    "    padded_instances = np.concatenate([instances, np.zeros((n_empty, size * size))], axis=0)\n",
    "\n",
    "    # Reshape the array so it's organized as a grid containing 28×28 images:\n",
    "    image_grid = padded_instances.reshape((n_rows, images_per_row, size, size))\n",
    "\n",
    "    # Combine axes 0 and 2 (vertical image grid axis, and vertical image axis),\n",
    "    # and axes 1 and 3 (horizontal axes). We first need to move the axes that we\n",
    "    # want to combine next to each other, using transpose(), and only then we\n",
    "    # can reshape:\n",
    "    big_image = image_grid.transpose(0, 2, 1, 3).reshape(n_rows * size,\n",
    "                                                         images_per_row * size)\n",
    "    # Now that we have a big image, we just need to show it:\n",
    "    plt.imshow(big_image, cmap = mpl.cm.binary, **options)\n",
    "    plt.axis(\"off\")"
   ]
  },
  {
   "cell_type": "code",
   "execution_count": 3,
   "metadata": {
    "ExecutionIndicator": {
     "show": true
    },
    "execution": {
     "iopub.execute_input": "2024-12-24T03:24:53.345995Z",
     "iopub.status.busy": "2024-12-24T03:24:53.345576Z",
     "iopub.status.idle": "2024-12-24T03:24:53.368869Z",
     "shell.execute_reply": "2024-12-24T03:24:53.368336Z",
     "shell.execute_reply.started": "2024-12-24T03:24:53.345962Z"
    },
    "tags": []
   },
   "outputs": [
    {
     "ename": "NameError",
     "evalue": "name 'mnist' is not defined",
     "output_type": "error",
     "traceback": [
      "\u001b[0;31m---------------------------------------------------------------------------\u001b[0m",
      "\u001b[0;31mNameError\u001b[0m                                 Traceback (most recent call last)",
      "Cell \u001b[0;32mIn[3], line 1\u001b[0m\n\u001b[0;32m----> 1\u001b[0m n3 \u001b[38;5;241m=\u001b[39m \u001b[43mpick_a_digit\u001b[49m\u001b[43m(\u001b[49m\u001b[38;5;241;43m3\u001b[39;49m\u001b[43m)\u001b[49m\n\u001b[1;32m      2\u001b[0m n100 \u001b[38;5;241m=\u001b[39m pick_a_digit(\u001b[38;5;241m100\u001b[39m)\n\u001b[1;32m      4\u001b[0m data \u001b[38;5;241m=\u001b[39m mnist[\u001b[38;5;124m'\u001b[39m\u001b[38;5;124mdata\u001b[39m\u001b[38;5;124m'\u001b[39m]\n",
      "Cell \u001b[0;32mIn[2], line 2\u001b[0m, in \u001b[0;36mpick_a_digit\u001b[0;34m(row)\u001b[0m\n\u001b[1;32m      1\u001b[0m \u001b[38;5;28;01mdef\u001b[39;00m \u001b[38;5;21mpick_a_digit\u001b[39m(row):\n\u001b[0;32m----> 2\u001b[0m   digit \u001b[38;5;241m=\u001b[39m \u001b[43mmnist\u001b[49m[\u001b[38;5;124m'\u001b[39m\u001b[38;5;124mtarget\u001b[39m\u001b[38;5;124m'\u001b[39m]\u001b[38;5;241m.\u001b[39mloc[row]\n\u001b[1;32m      3\u001b[0m   \u001b[38;5;28mprint\u001b[39m(\u001b[38;5;124m\"\u001b[39m\u001b[38;5;124mthe digit at \u001b[39m\u001b[38;5;124m\"\u001b[39m, row ,\u001b[38;5;124m\"\u001b[39m\u001b[38;5;124m is \u001b[39m\u001b[38;5;124m\"\u001b[39m, mnist[\u001b[38;5;124m'\u001b[39m\u001b[38;5;124mtarget\u001b[39m\u001b[38;5;124m'\u001b[39m]\u001b[38;5;241m.\u001b[39mloc[row])\n\u001b[1;32m      4\u001b[0m   \u001b[38;5;28;01mreturn\u001b[39;00m digit\n",
      "\u001b[0;31mNameError\u001b[0m: name 'mnist' is not defined"
     ]
    }
   ],
   "source": [
    "n3 = pick_a_digit(3)\n",
    "n100 = pick_a_digit(100)\n",
    "\n",
    "data = mnist['data']\n",
    "print(len(data))\n",
    "target = mnist['target']\n",
    "train_data = data[:60000]; train_target = target[:60000];\n",
    "test_data = data[60000:]; test_target = target[60000:]"
   ]
  },
  {
   "cell_type": "code",
   "execution_count": null,
   "metadata": {
    "ExecutionIndicator": {
     "show": true
    },
    "execution": {
     "iopub.status.busy": "2024-12-24T03:24:31.676425Z",
     "iopub.status.idle": "2024-12-24T03:24:31.676616Z",
     "shell.execute_reply": "2024-12-24T03:24:31.676525Z",
     "shell.execute_reply.started": "2024-12-24T03:24:31.676516Z"
    },
    "tags": []
   },
   "outputs": [],
   "source": [
    "num_data = mnist['data'].loc[3]\n",
    "num2d = num_data.values.reshape(28,28)\n",
    "plt.imshow(num2d, cmap='binary')"
   ]
  },
  {
   "cell_type": "code",
   "execution_count": null,
   "metadata": {
    "execution": {
     "iopub.status.busy": "2024-12-24T03:24:31.677217Z",
     "iopub.status.idle": "2024-12-24T03:24:31.677385Z",
     "shell.execute_reply": "2024-12-24T03:24:31.677309Z",
     "shell.execute_reply.started": "2024-12-24T03:24:31.677301Z"
    },
    "tags": []
   },
   "outputs": [],
   "source": [
    "show_a_digit(3)"
   ]
  },
  {
   "cell_type": "code",
   "execution_count": null,
   "metadata": {
    "execution": {
     "iopub.status.busy": "2024-12-24T03:24:31.677922Z",
     "iopub.status.idle": "2024-12-24T03:24:31.678124Z",
     "shell.execute_reply": "2024-12-24T03:24:31.678023Z",
     "shell.execute_reply.started": "2024-12-24T03:24:31.678015Z"
    },
    "id": "kcILTrRjXnTJ",
    "tags": []
   },
   "outputs": [],
   "source": [
    "is5_train_target = (train_target == '5')"
   ]
  },
  {
   "cell_type": "code",
   "execution_count": null,
   "metadata": {
    "colab": {
     "base_uri": "https://localhost:8080/",
     "height": 80
    },
    "execution": {
     "iopub.status.busy": "2024-12-24T03:24:31.678647Z",
     "iopub.status.idle": "2024-12-24T03:24:31.678944Z",
     "shell.execute_reply": "2024-12-24T03:24:31.678866Z",
     "shell.execute_reply.started": "2024-12-24T03:24:31.678857Z"
    },
    "id": "LFGGUzEsaq4J",
    "outputId": "f96358b9-b063-4a20-ea45-95a1e6bc001e",
    "tags": []
   },
   "outputs": [],
   "source": [
    "from sklearn.linear_model import SGDClassifier\n",
    "sgd_clf = SGDClassifier(random_state=42)\n",
    "sgd_clf.fit(train_data, is5_train_target) # executed for 25 seconds"
   ]
  },
  {
   "cell_type": "code",
   "execution_count": null,
   "metadata": {
    "colab": {
     "base_uri": "https://localhost:8080/"
    },
    "execution": {
     "iopub.status.busy": "2024-12-24T03:24:31.679506Z",
     "iopub.status.idle": "2024-12-24T03:24:31.679728Z",
     "shell.execute_reply": "2024-12-24T03:24:31.679651Z",
     "shell.execute_reply.started": "2024-12-24T03:24:31.679642Z"
    },
    "id": "b7f6dM3Fhbx1",
    "outputId": "4e1055e8-6fe2-482f-80a2-8e4c1234f89b",
    "tags": []
   },
   "outputs": [],
   "source": [
    "sgd_clf.predict([digit1.values])"
   ]
  },
  {
   "cell_type": "code",
   "execution_count": null,
   "metadata": {
    "colab": {
     "base_uri": "https://localhost:8080/",
     "height": 447
    },
    "execution": {
     "iopub.status.busy": "2024-12-24T03:24:31.680236Z",
     "iopub.status.idle": "2024-12-24T03:24:31.680456Z",
     "shell.execute_reply": "2024-12-24T03:24:31.680379Z",
     "shell.execute_reply.started": "2024-12-24T03:24:31.680371Z"
    },
    "id": "LIOzJFS9iStR",
    "outputId": "8bea82a5-f523-4172-f421-ab14067f225b",
    "tags": []
   },
   "outputs": [],
   "source": [
    "the10_digit = pick_and_show_a_digit(10)"
   ]
  },
  {
   "cell_type": "code",
   "execution_count": null,
   "metadata": {
    "colab": {
     "base_uri": "https://localhost:8080/"
    },
    "execution": {
     "iopub.status.busy": "2024-12-24T03:24:31.680944Z",
     "iopub.status.idle": "2024-12-24T03:24:31.681190Z",
     "shell.execute_reply": "2024-12-24T03:24:31.681112Z",
     "shell.execute_reply.started": "2024-12-24T03:24:31.681104Z"
    },
    "id": "sCeQYRLxiyNp",
    "outputId": "16603372-78be-46c7-fa9f-3b9983e847ed",
    "tags": []
   },
   "outputs": [],
   "source": [
    "sgd_clf.predict([the10_digit])"
   ]
  },
  {
   "cell_type": "code",
   "execution_count": null,
   "metadata": {
    "execution": {
     "iopub.status.busy": "2024-12-24T03:24:31.681663Z",
     "iopub.status.idle": "2024-12-24T03:24:31.681877Z",
     "shell.execute_reply": "2024-12-24T03:24:31.681803Z",
     "shell.execute_reply.started": "2024-12-24T03:24:31.681795Z"
    },
    "id": "w9onsLOXYkdK",
    "tags": []
   },
   "outputs": [],
   "source": [
    "x = np.array([1,2,3,4,5])"
   ]
  },
  {
   "cell_type": "code",
   "execution_count": null,
   "metadata": {
    "execution": {
     "iopub.status.busy": "2024-12-24T03:24:31.682424Z",
     "iopub.status.idle": "2024-12-24T03:24:31.682581Z",
     "shell.execute_reply": "2024-12-24T03:24:31.682507Z",
     "shell.execute_reply.started": "2024-12-24T03:24:31.682500Z"
    },
    "id": "VDeqvDKGbawA",
    "tags": []
   },
   "outputs": [],
   "source": [
    "from sklearn.model_selection import cross_val_score"
   ]
  },
  {
   "cell_type": "code",
   "execution_count": null,
   "metadata": {
    "colab": {
     "base_uri": "https://localhost:8080/"
    },
    "execution": {
     "iopub.status.busy": "2024-12-24T03:24:31.682968Z",
     "iopub.status.idle": "2024-12-24T03:24:31.683165Z",
     "shell.execute_reply": "2024-12-24T03:24:31.683087Z",
     "shell.execute_reply.started": "2024-12-24T03:24:31.683079Z"
    },
    "id": "rBZ_jefKbfFk",
    "outputId": "1f27e86e-870e-4dfe-98e1-24de7a6b5736",
    "tags": []
   },
   "outputs": [],
   "source": [
    "is5_sgd_clf = sgd_clf\n",
    "cross_val_score(is5_sgd_clf, train_data, is5_train_target, cv=4, scoring=\"accuracy\") # 精度"
   ]
  },
  {
   "cell_type": "code",
   "execution_count": null,
   "metadata": {
    "ExecutionIndicator": {
     "show": true
    },
    "colab": {
     "base_uri": "https://localhost:8080/",
     "height": 406
    },
    "execution": {
     "iopub.status.busy": "2024-12-24T03:24:31.683679Z",
     "iopub.status.idle": "2024-12-24T03:24:31.683832Z",
     "shell.execute_reply": "2024-12-24T03:24:31.683761Z",
     "shell.execute_reply.started": "2024-12-24T03:24:31.683754Z"
    },
    "id": "_WQTm5-EdcEM",
    "outputId": "b2612ebf-57ab-4c16-e21e-c81aefe9cebf",
    "tags": []
   },
   "outputs": [],
   "source": [
    "plot_digits(train_data[:20], images_per_row=10)\n",
    "plt.show()"
   ]
  },
  {
   "cell_type": "code",
   "execution_count": null,
   "metadata": {
    "execution": {
     "iopub.status.busy": "2024-12-24T03:24:31.684376Z",
     "iopub.status.idle": "2024-12-24T03:24:31.684535Z",
     "shell.execute_reply": "2024-12-24T03:24:31.684460Z",
     "shell.execute_reply.started": "2024-12-24T03:24:31.684453Z"
    },
    "id": "GWe_U2WDdyzl",
    "tags": []
   },
   "outputs": [],
   "source": [
    "from sklearn.base import BaseEstimator\n",
    "\n",
    "class DummyClassifier(BaseEstimator):\n",
    "    def fit(self, X, y=None):\n",
    "        pass\n",
    "    \n",
    "    def predict(self, X):\n",
    "        return np.zeros((len(X), 1), dtype=bool)\n"
   ]
  },
  {
   "cell_type": "code",
   "execution_count": null,
   "metadata": {
    "colab": {
     "base_uri": "https://localhost:8080/"
    },
    "execution": {
     "iopub.status.busy": "2024-12-24T03:24:31.684816Z",
     "iopub.status.idle": "2024-12-24T03:24:31.684962Z",
     "shell.execute_reply": "2024-12-24T03:24:31.684894Z",
     "shell.execute_reply.started": "2024-12-24T03:24:31.684887Z"
    },
    "id": "Gpf_LUF1fd09",
    "outputId": "953fea9b-25ea-44c1-f979-d8aa574bb49d"
   },
   "outputs": [],
   "source": [
    "cross_val_score(DummyClassifier(), train_data, is5_train_target, cv=3, scoring=\"accuracy\")"
   ]
  },
  {
   "cell_type": "code",
   "execution_count": null,
   "metadata": {
    "execution": {
     "iopub.status.busy": "2024-12-24T03:24:31.685565Z",
     "iopub.status.idle": "2024-12-24T03:24:31.685797Z",
     "shell.execute_reply": "2024-12-24T03:24:31.685720Z",
     "shell.execute_reply.started": "2024-12-24T03:24:31.685712Z"
    },
    "id": "PlZ1b6hagUvY",
    "tags": []
   },
   "outputs": [],
   "source": [
    "from sklearn.model_selection import cross_val_predict\n",
    "is5_train_predict = cross_val_predict(is5_sgd_clf, train_data, is5_train_target, cv=3) # 输出的是True, False"
   ]
  },
  {
   "cell_type": "code",
   "execution_count": null,
   "metadata": {
    "colab": {
     "base_uri": "https://localhost:8080/"
    },
    "execution": {
     "iopub.status.busy": "2024-12-24T03:24:31.686148Z",
     "iopub.status.idle": "2024-12-24T03:24:31.686303Z",
     "shell.execute_reply": "2024-12-24T03:24:31.686231Z",
     "shell.execute_reply.started": "2024-12-24T03:24:31.686224Z"
    },
    "id": "6RFSkY6Sha4O",
    "outputId": "da6e29bc-7c65-4676-e3d4-29e9b2b3b17d",
    "tags": []
   },
   "outputs": [],
   "source": [
    "from sklearn.metrics import confusion_matrix\n",
    "is5_conf_matrix = confusion_matrix(is5_train_predict, is5_train_target)\n",
    "is5_conf_matrix"
   ]
  },
  {
   "cell_type": "code",
   "execution_count": null,
   "metadata": {
    "execution": {
     "iopub.status.busy": "2024-12-24T03:24:31.686723Z",
     "iopub.status.idle": "2024-12-24T03:24:31.686877Z",
     "shell.execute_reply": "2024-12-24T03:24:31.686804Z",
     "shell.execute_reply.started": "2024-12-24T03:24:31.686798Z"
    },
    "tags": []
   },
   "outputs": [],
   "source": [
    "def get_matrix():\n",
    "    from sklearn.model_selection import cross_val_predict\n",
    "    from sklearn.metrics import confusion_matrix\n",
    "    is5_train_predict = cross_val_predict(is5_sgd_clf, train_data, is5_train_target, cv=3) # 输出的是True, False\n",
    "    is5_conf_matrix = confusion_matrix(is5_train_predict, is5_train_target) # compare\n",
    "    return is5_conf_matrix"
   ]
  },
  {
   "cell_type": "code",
   "execution_count": null,
   "metadata": {
    "colab": {
     "base_uri": "https://localhost:8080/"
    },
    "execution": {
     "iopub.status.busy": "2024-12-24T03:24:31.687423Z",
     "iopub.status.idle": "2024-12-24T03:24:31.687588Z",
     "shell.execute_reply": "2024-12-24T03:24:31.687509Z",
     "shell.execute_reply.started": "2024-12-24T03:24:31.687502Z"
    },
    "id": "tjdaA0vZiKsX",
    "outputId": "7521d00d-4bfc-4559-b334-cdd8aaf542e4",
    "tags": []
   },
   "outputs": [],
   "source": [
    "from sklearn.metrics import precision_score, recall_score\n",
    "from sklearn.metrics import f1_score\n",
    "\n",
    "p = precision_score(is5_train_target, is5_train_predict) # 这个真实结果在前，预测结果在后，希望这种是标准的\n",
    "r = recall_score(is5_train_target, is5_train_predict)\n",
    "print(p, r)\n",
    "f1_value = f1_score(is5_train_target, is5_train_predict)\n",
    "print(f1_value)"
   ]
  },
  {
   "cell_type": "code",
   "execution_count": null,
   "metadata": {
    "colab": {
     "base_uri": "https://localhost:8080/"
    },
    "execution": {
     "iopub.status.busy": "2024-12-24T03:24:31.688037Z",
     "iopub.status.idle": "2024-12-24T03:24:31.688340Z",
     "shell.execute_reply": "2024-12-24T03:24:31.688264Z",
     "shell.execute_reply.started": "2024-12-24T03:24:31.688256Z"
    },
    "id": "WvThy-qhmLy6",
    "outputId": "05c6d8df-8131-484e-da8c-e7b1de368f72"
   },
   "outputs": [],
   "source": [
    "is5_sgd_clf.decision_function([n100])"
   ]
  },
  {
   "cell_type": "code",
   "execution_count": null,
   "metadata": {
    "colab": {
     "base_uri": "https://localhost:8080/",
     "height": 447
    },
    "execution": {
     "iopub.status.busy": "2024-12-24T03:24:31.688781Z",
     "iopub.status.idle": "2024-12-24T03:24:31.688933Z",
     "shell.execute_reply": "2024-12-24T03:24:31.688860Z",
     "shell.execute_reply.started": "2024-12-24T03:24:31.688853Z"
    },
    "id": "qKCZCNpTmtWC",
    "outputId": "b9a25dc8-38f6-42b2-e500-8a6d8e743681",
    "tags": []
   },
   "outputs": [],
   "source": [
    "n3 = pick_and_show_a_digit(3)"
   ]
  },
  {
   "cell_type": "code",
   "execution_count": null,
   "metadata": {
    "colab": {
     "base_uri": "https://localhost:8080/"
    },
    "execution": {
     "iopub.status.busy": "2024-12-24T03:24:31.689443Z",
     "iopub.status.idle": "2024-12-24T03:24:31.689657Z",
     "shell.execute_reply": "2024-12-24T03:24:31.689581Z",
     "shell.execute_reply.started": "2024-12-24T03:24:31.689573Z"
    },
    "id": "azHg8Lq-nDdR",
    "outputId": "202248d5-3ec1-49b7-cfbf-198d1c40e07f",
    "tags": []
   },
   "outputs": [],
   "source": [
    "is5_sgd_clf.decision_function([n3])"
   ]
  },
  {
   "cell_type": "code",
   "execution_count": null,
   "metadata": {
    "execution": {
     "iopub.status.busy": "2024-12-24T03:24:31.690216Z",
     "iopub.status.idle": "2024-12-24T03:24:31.690371Z",
     "shell.execute_reply": "2024-12-24T03:24:31.690299Z",
     "shell.execute_reply.started": "2024-12-24T03:24:31.690292Z"
    },
    "id": "bQJ8OlZooljd",
    "tags": []
   },
   "outputs": [],
   "source": [
    "is5_train_scores = cross_val_predict(is5_sgd_clf, train_data, is5_train_target, cv=3, method=\"decision_function\")"
   ]
  },
  {
   "cell_type": "code",
   "execution_count": null,
   "metadata": {
    "colab": {
     "base_uri": "https://localhost:8080/"
    },
    "execution": {
     "iopub.status.busy": "2024-12-24T03:24:31.691539Z",
     "iopub.status.idle": "2024-12-24T03:24:31.691709Z",
     "shell.execute_reply": "2024-12-24T03:24:31.691630Z",
     "shell.execute_reply.started": "2024-12-24T03:24:31.691623Z"
    },
    "id": "7kRM-uK1AVmF",
    "outputId": "fa9dcbb3-fb25-42ec-b64c-8f508994f42f",
    "tags": []
   },
   "outputs": [],
   "source": [
    "len(is5_train_scores)"
   ]
  },
  {
   "cell_type": "code",
   "execution_count": null,
   "metadata": {
    "colab": {
     "base_uri": "https://localhost:8080/"
    },
    "execution": {
     "iopub.status.busy": "2024-12-24T03:24:31.692190Z",
     "iopub.status.idle": "2024-12-24T03:24:31.692356Z",
     "shell.execute_reply": "2024-12-24T03:24:31.692280Z",
     "shell.execute_reply.started": "2024-12-24T03:24:31.692273Z"
    },
    "id": "D7J4OG1VpDss",
    "outputId": "9680209f-8ef7-4593-bf41-ab9074826234",
    "tags": []
   },
   "outputs": [],
   "source": [
    "is5_train_scores"
   ]
  },
  {
   "cell_type": "code",
   "execution_count": null,
   "metadata": {
    "execution": {
     "iopub.status.busy": "2024-12-24T03:24:31.692897Z",
     "iopub.status.idle": "2024-12-24T03:24:31.693084Z",
     "shell.execute_reply": "2024-12-24T03:24:31.692980Z",
     "shell.execute_reply.started": "2024-12-24T03:24:31.692973Z"
    },
    "id": "3A7DT3ZOpGPO"
   },
   "outputs": [],
   "source": [
    "from sklearn.metrics import precision_recall_curve\n",
    "precision, recall, threadholds = precision_recall_curve(is5_train_target, is5_train_scores)"
   ]
  },
  {
   "cell_type": "code",
   "execution_count": null,
   "metadata": {
    "colab": {
     "base_uri": "https://localhost:8080/"
    },
    "execution": {
     "iopub.status.busy": "2024-12-24T03:24:31.693700Z",
     "iopub.status.idle": "2024-12-24T03:24:31.693914Z",
     "shell.execute_reply": "2024-12-24T03:24:31.693839Z",
     "shell.execute_reply.started": "2024-12-24T03:24:31.693831Z"
    },
    "id": "xqFSCEX4p48F",
    "outputId": "c28bebf9-7153-4b95-ecd5-d06d1095c2d8"
   },
   "outputs": [],
   "source": [
    "precision"
   ]
  },
  {
   "cell_type": "code",
   "execution_count": null,
   "metadata": {
    "colab": {
     "base_uri": "https://localhost:8080/"
    },
    "execution": {
     "iopub.status.busy": "2024-12-24T03:24:31.694504Z",
     "iopub.status.idle": "2024-12-24T03:24:31.694674Z",
     "shell.execute_reply": "2024-12-24T03:24:31.694597Z",
     "shell.execute_reply.started": "2024-12-24T03:24:31.694590Z"
    },
    "id": "t4lnxPx8qESd",
    "outputId": "50aed07a-cce9-438c-ca69-9411864ba5dc"
   },
   "outputs": [],
   "source": [
    "recall"
   ]
  },
  {
   "cell_type": "code",
   "execution_count": null,
   "metadata": {
    "colab": {
     "base_uri": "https://localhost:8080/"
    },
    "execution": {
     "iopub.status.busy": "2024-12-24T03:24:31.695146Z",
     "iopub.status.idle": "2024-12-24T03:24:31.695370Z",
     "shell.execute_reply": "2024-12-24T03:24:31.695291Z",
     "shell.execute_reply.started": "2024-12-24T03:24:31.695283Z"
    },
    "id": "t5dPBV8dqH1b",
    "outputId": "3424bf73-b3af-4db8-b9c3-2b144766006b"
   },
   "outputs": [],
   "source": [
    "threadholds"
   ]
  },
  {
   "cell_type": "code",
   "execution_count": null,
   "metadata": {
    "execution": {
     "iopub.status.busy": "2024-12-24T03:24:31.695803Z",
     "iopub.status.idle": "2024-12-24T03:24:31.695957Z",
     "shell.execute_reply": "2024-12-24T03:24:31.695885Z",
     "shell.execute_reply.started": "2024-12-24T03:24:31.695878Z"
    },
    "id": "5-izfWw_r8wy"
   },
   "outputs": [],
   "source": [
    "def plot_precision_recall_vs_threshold(precisions, recalls, thresholds):\n",
    "    plt.plot(thresholds, precisions[:-1], \"b--\", label=\"Precision\", linewidth=2)\n",
    "    plt.plot(thresholds, recalls[:-1], \"g-\", label=\"Recall\", linewidth=2)\n",
    "    plt.legend(loc=\"center right\", fontsize=16) # Not shown in the book\n",
    "    plt.xlabel(\"Threshold\", fontsize=16)        # Not shown\n",
    "    plt.grid(True)                              # Not shown\n",
    "    plt.axis([-50000, 50000, 0, 1])             # Not shown\n"
   ]
  },
  {
   "cell_type": "code",
   "execution_count": null,
   "metadata": {
    "colab": {
     "base_uri": "https://localhost:8080/",
     "height": 461
    },
    "execution": {
     "iopub.status.busy": "2024-12-24T03:24:31.696569Z",
     "iopub.status.idle": "2024-12-24T03:24:31.696780Z",
     "shell.execute_reply": "2024-12-24T03:24:31.696704Z",
     "shell.execute_reply.started": "2024-12-24T03:24:31.696696Z"
    },
    "id": "brjYPYRUr-qh",
    "outputId": "db0bdab9-f7cc-4646-8892-e3c829ebd68a"
   },
   "outputs": [],
   "source": [
    "plot_precision_recall_vs_threshold(precision, recall, threadholds)"
   ]
  },
  {
   "cell_type": "code",
   "execution_count": null,
   "metadata": {
    "colab": {
     "base_uri": "https://localhost:8080/",
     "height": 466
    },
    "execution": {
     "iopub.status.busy": "2024-12-24T03:24:31.697244Z",
     "iopub.status.idle": "2024-12-24T03:24:31.697401Z",
     "shell.execute_reply": "2024-12-24T03:24:31.697330Z",
     "shell.execute_reply.started": "2024-12-24T03:24:31.697322Z"
    },
    "id": "WtGXUD6rsaBh",
    "outputId": "639c778a-f318-409e-e643-09f20706dc72"
   },
   "outputs": [],
   "source": [
    "plt.plot(recall,precision)\n",
    "plt.xlabel(\"recall\")\n",
    "plt.ylabel(\"precision\")"
   ]
  },
  {
   "cell_type": "code",
   "execution_count": null,
   "metadata": {
    "colab": {
     "base_uri": "https://localhost:8080/"
    },
    "execution": {
     "iopub.status.busy": "2024-12-24T03:24:31.698078Z",
     "iopub.status.idle": "2024-12-24T03:24:31.698239Z",
     "shell.execute_reply": "2024-12-24T03:24:31.698166Z",
     "shell.execute_reply.started": "2024-12-24T03:24:31.698159Z"
    },
    "id": "Up10o4FVtaAq",
    "outputId": "ddb6443e-7b9f-4e60-b5e8-cd725c2cef6e"
   },
   "outputs": [],
   "source": [
    "precision"
   ]
  },
  {
   "cell_type": "code",
   "execution_count": null,
   "metadata": {
    "execution": {
     "iopub.status.busy": "2024-12-24T03:24:31.698674Z",
     "iopub.status.idle": "2024-12-24T03:24:31.698889Z",
     "shell.execute_reply": "2024-12-24T03:24:31.698814Z",
     "shell.execute_reply.started": "2024-12-24T03:24:31.698806Z"
    },
    "id": "Tx8z2KT2tdBX"
   },
   "outputs": [],
   "source": [
    "idx_max_first = np.argmax(precision >= 0.9) # argmax最大值的第一次出现"
   ]
  },
  {
   "cell_type": "code",
   "execution_count": null,
   "metadata": {
    "execution": {
     "iopub.status.busy": "2024-12-24T03:24:31.699407Z",
     "iopub.status.idle": "2024-12-24T03:24:31.699622Z",
     "shell.execute_reply": "2024-12-24T03:24:31.699546Z",
     "shell.execute_reply.started": "2024-12-24T03:24:31.699538Z"
    },
    "id": "SEpEFDbEt6an"
   },
   "outputs": [],
   "source": [
    "thread_90 = threadholds[idx_max_first]"
   ]
  },
  {
   "cell_type": "code",
   "execution_count": null,
   "metadata": {
    "colab": {
     "base_uri": "https://localhost:8080/"
    },
    "execution": {
     "iopub.status.busy": "2024-12-24T03:24:31.700122Z",
     "iopub.status.idle": "2024-12-24T03:24:31.700344Z",
     "shell.execute_reply": "2024-12-24T03:24:31.700266Z",
     "shell.execute_reply.started": "2024-12-24T03:24:31.700259Z"
    },
    "id": "76PVai3svXdb",
    "outputId": "ee55ee77-29c0-4f8b-9b39-51f0584491c5"
   },
   "outputs": [],
   "source": [
    "thread_90"
   ]
  },
  {
   "cell_type": "code",
   "execution_count": null,
   "metadata": {
    "colab": {
     "base_uri": "https://localhost:8080/"
    },
    "execution": {
     "iopub.status.busy": "2024-12-24T03:24:31.700804Z",
     "iopub.status.idle": "2024-12-24T03:24:31.700959Z",
     "shell.execute_reply": "2024-12-24T03:24:31.700883Z",
     "shell.execute_reply.started": "2024-12-24T03:24:31.700876Z"
    },
    "id": "bbdcMiDsvaXs",
    "outputId": "40249844-0742-4e21-b44e-cc2b46016062"
   },
   "outputs": [],
   "source": [
    "is5_train_scores"
   ]
  },
  {
   "cell_type": "code",
   "execution_count": null,
   "metadata": {
    "execution": {
     "iopub.status.busy": "2024-12-24T03:24:31.701461Z",
     "iopub.status.idle": "2024-12-24T03:24:31.701794Z",
     "shell.execute_reply": "2024-12-24T03:24:31.701718Z",
     "shell.execute_reply.started": "2024-12-24T03:24:31.701710Z"
    },
    "id": "ln9BSucywCPH"
   },
   "outputs": [],
   "source": [
    "is5_train_predict_90perct = is5_train_scores > thread_90"
   ]
  },
  {
   "cell_type": "code",
   "execution_count": null,
   "metadata": {
    "colab": {
     "base_uri": "https://localhost:8080/"
    },
    "execution": {
     "iopub.status.busy": "2024-12-24T03:24:31.702265Z",
     "iopub.status.idle": "2024-12-24T03:24:31.702476Z",
     "shell.execute_reply": "2024-12-24T03:24:31.702400Z",
     "shell.execute_reply.started": "2024-12-24T03:24:31.702392Z"
    },
    "id": "2AEz99lkyQVZ",
    "outputId": "bdea586d-5cd5-4672-cd28-6d135df7ebf8"
   },
   "outputs": [],
   "source": [
    "is5_train_predict_90perct"
   ]
  },
  {
   "cell_type": "code",
   "execution_count": null,
   "metadata": {
    "colab": {
     "base_uri": "https://localhost:8080/"
    },
    "execution": {
     "iopub.status.busy": "2024-12-24T03:24:31.702895Z",
     "iopub.status.idle": "2024-12-24T03:24:31.703152Z",
     "shell.execute_reply": "2024-12-24T03:24:31.703073Z",
     "shell.execute_reply.started": "2024-12-24T03:24:31.703063Z"
    },
    "id": "1D55_XwKwMK5",
    "outputId": "f281f70d-bfba-4018-bb68-10cceef58e6a"
   },
   "outputs": [],
   "source": [
    "is5_train_predict_90perct"
   ]
  },
  {
   "cell_type": "code",
   "execution_count": null,
   "metadata": {
    "colab": {
     "base_uri": "https://localhost:8080/"
    },
    "execution": {
     "iopub.status.busy": "2024-12-24T03:24:31.703641Z",
     "iopub.status.idle": "2024-12-24T03:24:31.703849Z",
     "shell.execute_reply": "2024-12-24T03:24:31.703775Z",
     "shell.execute_reply.started": "2024-12-24T03:24:31.703767Z"
    },
    "id": "JFbYPciPwR0m",
    "outputId": "277f89ee-6c66-418c-df0e-5ac6d19de3f3"
   },
   "outputs": [],
   "source": [
    "is5_train_predict_90perct[:20]"
   ]
  },
  {
   "cell_type": "code",
   "execution_count": null,
   "metadata": {
    "colab": {
     "base_uri": "https://localhost:8080/"
    },
    "execution": {
     "iopub.status.busy": "2024-12-24T03:24:31.704249Z",
     "iopub.status.idle": "2024-12-24T03:24:31.704465Z",
     "shell.execute_reply": "2024-12-24T03:24:31.704391Z",
     "shell.execute_reply.started": "2024-12-24T03:24:31.704384Z"
    },
    "id": "VrdH7UDYwkf4",
    "outputId": "c6aac75e-cf89-4721-a976-effca8845874"
   },
   "outputs": [],
   "source": [
    "precision_score(is5_train_target, is5_train_predict_90perct)"
   ]
  },
  {
   "cell_type": "code",
   "execution_count": null,
   "metadata": {
    "colab": {
     "base_uri": "https://localhost:8080/",
     "height": 406
    },
    "execution": {
     "iopub.status.busy": "2024-12-24T03:24:31.704897Z",
     "iopub.status.idle": "2024-12-24T03:24:31.705090Z",
     "shell.execute_reply": "2024-12-24T03:24:31.704982Z",
     "shell.execute_reply.started": "2024-12-24T03:24:31.704975Z"
    },
    "id": "g37zxE6qxDsv",
    "outputId": "a965f209-bbe4-4411-fad8-5fca8a297061"
   },
   "outputs": [],
   "source": [
    "plot_digits(train_data[:20],5)"
   ]
  },
  {
   "cell_type": "code",
   "execution_count": null,
   "metadata": {
    "colab": {
     "base_uri": "https://localhost:8080/"
    },
    "execution": {
     "iopub.status.busy": "2024-12-24T03:24:31.705698Z",
     "iopub.status.idle": "2024-12-24T03:24:31.705944Z",
     "shell.execute_reply": "2024-12-24T03:24:31.705868Z",
     "shell.execute_reply.started": "2024-12-24T03:24:31.705860Z"
    },
    "id": "WZfAWOoJxI0w",
    "outputId": "b0cf46d0-04ea-4928-a62b-d9e5ca09a11d"
   },
   "outputs": [],
   "source": [
    "recall_score(is5_train_target, is5_train_predict_90perct) # 一半不到的召回率"
   ]
  },
  {
   "cell_type": "code",
   "execution_count": null,
   "metadata": {
    "colab": {
     "base_uri": "https://localhost:8080/",
     "height": 447
    },
    "execution": {
     "iopub.status.busy": "2024-12-24T03:24:31.706451Z",
     "iopub.status.idle": "2024-12-24T03:24:31.706666Z",
     "shell.execute_reply": "2024-12-24T03:24:31.706591Z",
     "shell.execute_reply.started": "2024-12-24T03:24:31.706584Z"
    },
    "id": "IVtsqka_ySNn",
    "outputId": "c018ab64-5e81-4595-c4f6-346fe008eaa5",
    "tags": []
   },
   "outputs": [],
   "source": [
    "n12 = pick_and_show_a_digit(12)"
   ]
  },
  {
   "cell_type": "code",
   "execution_count": null,
   "metadata": {
    "execution": {
     "iopub.status.busy": "2024-12-24T03:24:31.707168Z",
     "iopub.status.idle": "2024-12-24T03:24:31.707383Z",
     "shell.execute_reply": "2024-12-24T03:24:31.707307Z",
     "shell.execute_reply.started": "2024-12-24T03:24:31.707300Z"
    },
    "id": "to2rfsP8qJ4f"
   },
   "outputs": [],
   "source": [
    "from sklearn.svm import SVC\n",
    "svm_classifier = SVC()"
   ]
  },
  {
   "cell_type": "code",
   "execution_count": null,
   "metadata": {
    "colab": {
     "base_uri": "https://localhost:8080/",
     "height": 80
    },
    "execution": {
     "iopub.status.busy": "2024-12-24T03:24:31.707802Z",
     "iopub.status.idle": "2024-12-24T03:24:31.707961Z",
     "shell.execute_reply": "2024-12-24T03:24:31.707888Z",
     "shell.execute_reply.started": "2024-12-24T03:24:31.707880Z"
    },
    "id": "6fdWKaQy_SmM",
    "outputId": "6aaf7f2d-59c8-4323-a721-0e2df602c156",
    "tags": []
   },
   "outputs": [],
   "source": [
    "svm_classifier.fit(train_data, train_target)"
   ]
  },
  {
   "cell_type": "code",
   "execution_count": null,
   "metadata": {
    "colab": {
     "base_uri": "https://localhost:8080/"
    },
    "execution": {
     "iopub.status.busy": "2024-12-24T03:24:31.708585Z",
     "iopub.status.idle": "2024-12-24T03:24:31.708800Z",
     "shell.execute_reply": "2024-12-24T03:24:31.708725Z",
     "shell.execute_reply.started": "2024-12-24T03:24:31.708717Z"
    },
    "id": "pfIFBcMWC4T5",
    "outputId": "807424c3-3123-483e-a7e4-f9b94e72fef1"
   },
   "outputs": [],
   "source": [
    "svm_classifier.predict([n3])"
   ]
  },
  {
   "cell_type": "code",
   "execution_count": null,
   "metadata": {
    "colab": {
     "base_uri": "https://localhost:8080/"
    },
    "execution": {
     "iopub.status.busy": "2024-12-24T03:24:31.709294Z",
     "iopub.status.idle": "2024-12-24T03:24:31.709510Z",
     "shell.execute_reply": "2024-12-24T03:24:31.709435Z",
     "shell.execute_reply.started": "2024-12-24T03:24:31.709427Z"
    },
    "id": "TwPetPD4C9za",
    "outputId": "b93b5e7e-7d6a-4710-dd8b-3cef76839be6"
   },
   "outputs": [],
   "source": [
    "svm_classifier.decision_function([n3])"
   ]
  },
  {
   "cell_type": "code",
   "execution_count": null,
   "metadata": {
    "colab": {
     "base_uri": "https://localhost:8080/"
    },
    "execution": {
     "iopub.status.busy": "2024-12-24T03:24:31.709973Z",
     "iopub.status.idle": "2024-12-24T03:24:31.710236Z",
     "shell.execute_reply": "2024-12-24T03:24:31.710160Z",
     "shell.execute_reply.started": "2024-12-24T03:24:31.710152Z"
    },
    "id": "ddgu4qgsRxQd",
    "outputId": "710440d8-7c84-47f7-d9ca-dec9426b908d",
    "tags": []
   },
   "outputs": [],
   "source": [
    "svm_classifier.classes_"
   ]
  },
  {
   "cell_type": "code",
   "execution_count": null,
   "metadata": {
    "execution": {
     "iopub.status.busy": "2024-12-24T03:24:31.710773Z",
     "iopub.status.idle": "2024-12-24T03:24:31.710925Z",
     "shell.execute_reply": "2024-12-24T03:24:31.710852Z",
     "shell.execute_reply.started": "2024-12-24T03:24:31.710845Z"
    },
    "id": "Y99lbQ5HL5Ll"
   },
   "outputs": [],
   "source": [
    "sgd_classifer_multi = SGDClassifier(random_state=42)"
   ]
  },
  {
   "cell_type": "code",
   "execution_count": null,
   "metadata": {
    "colab": {
     "base_uri": "https://localhost:8080/",
     "height": 80
    },
    "execution": {
     "iopub.status.busy": "2024-12-24T03:24:31.711351Z",
     "iopub.status.idle": "2024-12-24T03:24:31.711505Z",
     "shell.execute_reply": "2024-12-24T03:24:31.711433Z",
     "shell.execute_reply.started": "2024-12-24T03:24:31.711426Z"
    },
    "id": "0hs_Fz0NMUql",
    "outputId": "9c58e13c-ecab-4ac1-bc7c-c27d9966b4e5"
   },
   "outputs": [],
   "source": [
    "sgd_classifer_multi.fit(train_data, train_target)"
   ]
  },
  {
   "cell_type": "code",
   "execution_count": null,
   "metadata": {
    "colab": {
     "base_uri": "https://localhost:8080/"
    },
    "execution": {
     "iopub.status.busy": "2024-12-24T03:24:31.712107Z",
     "iopub.status.idle": "2024-12-24T03:24:31.712269Z",
     "shell.execute_reply": "2024-12-24T03:24:31.712192Z",
     "shell.execute_reply.started": "2024-12-24T03:24:31.712185Z"
    },
    "id": "p-jx1728N9Tm",
    "outputId": "703e8b72-c20f-45df-8023-6120fd5c7309"
   },
   "outputs": [],
   "source": [
    "sgd_classifer_multi.predict([n3])\n",
    "sgd_classifer_multi.predict([n1])"
   ]
  },
  {
   "cell_type": "code",
   "execution_count": null,
   "metadata": {
    "execution": {
     "iopub.status.busy": "2024-12-24T03:24:31.712866Z",
     "iopub.status.idle": "2024-12-24T03:24:31.713115Z",
     "shell.execute_reply": "2024-12-24T03:24:31.713023Z",
     "shell.execute_reply.started": "2024-12-24T03:24:31.713013Z"
    },
    "id": "fGGdn1yZOhvc"
   },
   "outputs": [],
   "source": [
    "noise = np.random.randint(0,100,(len(train_data),28*28))"
   ]
  },
  {
   "cell_type": "code",
   "execution_count": null,
   "metadata": {
    "execution": {
     "iopub.status.busy": "2024-12-24T03:24:31.713583Z",
     "iopub.status.idle": "2024-12-24T03:24:31.713796Z",
     "shell.execute_reply": "2024-12-24T03:24:31.713719Z",
     "shell.execute_reply.started": "2024-12-24T03:24:31.713711Z"
    },
    "id": "WJphJFWJOpOT"
   },
   "outputs": [],
   "source": [
    "train_data_with_noise = train_data + noise"
   ]
  },
  {
   "cell_type": "code",
   "execution_count": null,
   "metadata": {
    "execution": {
     "iopub.status.busy": "2024-12-24T03:24:31.714227Z",
     "iopub.status.idle": "2024-12-24T03:24:31.714528Z",
     "shell.execute_reply": "2024-12-24T03:24:31.714453Z",
     "shell.execute_reply.started": "2024-12-24T03:24:31.714445Z"
    },
    "id": "4hpm0595Oznh"
   },
   "outputs": [],
   "source": [
    "noise = np.random.randint(0,100,(len(train_data),28*28))"
   ]
  },
  {
   "cell_type": "code",
   "execution_count": null,
   "metadata": {
    "execution": {
     "iopub.status.busy": "2024-12-24T03:24:31.714962Z",
     "iopub.status.idle": "2024-12-24T03:24:31.715205Z",
     "shell.execute_reply": "2024-12-24T03:24:31.715128Z",
     "shell.execute_reply.started": "2024-12-24T03:24:31.715120Z"
    },
    "id": "gNjI2m5mPXPZ"
   },
   "outputs": [],
   "source": [
    "train_target_with_noise = train_data"
   ]
  },
  {
   "cell_type": "code",
   "execution_count": null,
   "metadata": {
    "colab": {
     "base_uri": "https://localhost:8080/"
    },
    "execution": {
     "iopub.status.busy": "2024-12-24T03:24:31.715672Z",
     "iopub.status.idle": "2024-12-24T03:24:31.715905Z",
     "shell.execute_reply": "2024-12-24T03:24:31.715831Z",
     "shell.execute_reply.started": "2024-12-24T03:24:31.715823Z"
    },
    "id": "VA0XmzI_QG_x",
    "outputId": "4bc6da7a-cad6-400a-ad1d-2a1e41983aad"
   },
   "outputs": [],
   "source": [
    "n3_score = svm_classifier.decision_function([n3])"
   ]
  },
  {
   "cell_type": "code",
   "execution_count": null,
   "metadata": {
    "colab": {
     "base_uri": "https://localhost:8080/"
    },
    "execution": {
     "iopub.status.busy": "2024-12-24T03:24:31.716410Z",
     "iopub.status.idle": "2024-12-24T03:24:31.716570Z",
     "shell.execute_reply": "2024-12-24T03:24:31.716495Z",
     "shell.execute_reply.started": "2024-12-24T03:24:31.716487Z"
    },
    "id": "TOZcz5BWQPFX",
    "outputId": "65b04e19-0334-4f2f-dc24-259145de2e06"
   },
   "outputs": [],
   "source": [
    "n3_score"
   ]
  },
  {
   "cell_type": "code",
   "execution_count": null,
   "metadata": {
    "colab": {
     "base_uri": "https://localhost:8080/"
    },
    "execution": {
     "iopub.status.busy": "2024-12-24T03:24:31.717112Z",
     "iopub.status.idle": "2024-12-24T03:24:31.717360Z",
     "shell.execute_reply": "2024-12-24T03:24:31.717283Z",
     "shell.execute_reply.started": "2024-12-24T03:24:31.717275Z"
    },
    "id": "D7m34HtHQSPm",
    "outputId": "47909483-0e90-41b5-9b90-946f809dd496"
   },
   "outputs": [],
   "source": [
    "np.argmax(n3_score)"
   ]
  },
  {
   "cell_type": "code",
   "execution_count": null,
   "metadata": {
    "colab": {
     "base_uri": "https://localhost:8080/",
     "height": 430
    },
    "execution": {
     "iopub.status.busy": "2024-12-24T03:24:31.717751Z",
     "iopub.status.idle": "2024-12-24T03:24:31.717903Z",
     "shell.execute_reply": "2024-12-24T03:24:31.717832Z",
     "shell.execute_reply.started": "2024-12-24T03:24:31.717825Z"
    },
    "id": "IsNW2P1JQU5v",
    "outputId": "32742949-bfe6-409e-b1f3-a99de2017304"
   },
   "outputs": [],
   "source": [
    "show_a_digit(n3)"
   ]
  },
  {
   "cell_type": "code",
   "execution_count": null,
   "metadata": {
    "execution": {
     "iopub.status.busy": "2024-12-24T03:24:31.718512Z",
     "iopub.status.idle": "2024-12-24T03:24:31.718722Z",
     "shell.execute_reply": "2024-12-24T03:24:31.718645Z",
     "shell.execute_reply.started": "2024-12-24T03:24:31.718637Z"
    },
    "id": "mMiFmN3vSOBl"
   },
   "outputs": [],
   "source": [
    "sgd_clf_ret = cross_val_score(sgd_clf, train_data, train_target, cv=3, scoring=\"accuracy\")"
   ]
  },
  {
   "cell_type": "code",
   "execution_count": null,
   "metadata": {
    "colab": {
     "base_uri": "https://localhost:8080/"
    },
    "execution": {
     "iopub.status.busy": "2024-12-24T03:24:31.719157Z",
     "iopub.status.idle": "2024-12-24T03:24:31.719315Z",
     "shell.execute_reply": "2024-12-24T03:24:31.719237Z",
     "shell.execute_reply.started": "2024-12-24T03:24:31.719230Z"
    },
    "id": "nig9_mVJTua-",
    "outputId": "27de785c-296a-422c-86d5-43e726da41e5"
   },
   "outputs": [],
   "source": [
    "sgd_clf_ret"
   ]
  },
  {
   "cell_type": "code",
   "execution_count": null,
   "metadata": {
    "execution": {
     "iopub.status.busy": "2024-12-24T03:24:31.719958Z",
     "iopub.status.idle": "2024-12-24T03:24:31.720150Z",
     "shell.execute_reply": "2024-12-24T03:24:31.720068Z",
     "shell.execute_reply.started": "2024-12-24T03:24:31.720059Z"
    },
    "id": "D-wR_OjeT8HE"
   },
   "outputs": [],
   "source": [
    "from sklearn.preprocessing import StandardScaler\n",
    "scaler = StandardScaler()\n",
    "train_data_scaled = scaler.fit_transform(train_data.astype(np.float64))\n",
    "sgd_clf_ret_scaled = cross_val_score(sgd_clf, train_data_scaled, train_target, cv=3, scoring=\"accuracy\")"
   ]
  },
  {
   "cell_type": "code",
   "execution_count": null,
   "metadata": {
    "colab": {
     "base_uri": "https://localhost:8080/"
    },
    "execution": {
     "iopub.status.busy": "2024-12-24T03:24:31.720614Z",
     "iopub.status.idle": "2024-12-24T03:24:31.720777Z",
     "shell.execute_reply": "2024-12-24T03:24:31.720702Z",
     "shell.execute_reply.started": "2024-12-24T03:24:31.720695Z"
    },
    "id": "fwqok6DQYFBu",
    "outputId": "6e4496e2-2cd8-4f75-dfee-d2a9e2903b0a"
   },
   "outputs": [],
   "source": [
    "sgd_clf_ret_scaled"
   ]
  },
  {
   "cell_type": "markdown",
   "metadata": {},
   "source": []
  },
  {
   "cell_type": "markdown",
   "metadata": {},
   "source": []
  }
 ],
 "metadata": {
  "colab": {
   "provenance": []
  },
  "kernelspec": {
   "display_name": "Python 3 (ipykernel)",
   "language": "python",
   "name": "python3"
  },
  "language_info": {
   "codemirror_mode": {
    "name": "ipython",
    "version": 3
   },
   "file_extension": ".py",
   "mimetype": "text/x-python",
   "name": "python",
   "nbconvert_exporter": "python",
   "pygments_lexer": "ipython3",
   "version": "3.10.14"
  }
 },
 "nbformat": 4,
 "nbformat_minor": 4
}
