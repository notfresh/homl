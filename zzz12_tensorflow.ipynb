{
 "cells": [
  {
   "cell_type": "code",
   "execution_count": 38,
   "id": "3d9c3f57-1e4e-4ae8-af56-a8ee42eb21d1",
   "metadata": {
    "execution": {
     "iopub.execute_input": "2024-12-11T03:22:11.199639Z",
     "iopub.status.busy": "2024-12-11T03:22:11.199303Z",
     "iopub.status.idle": "2024-12-11T03:22:11.202299Z",
     "shell.execute_reply": "2024-12-11T03:22:11.201766Z",
     "shell.execute_reply.started": "2024-12-11T03:22:11.199620Z"
    },
    "tags": []
   },
   "outputs": [],
   "source": [
    "import tensorflow as tf"
   ]
  },
  {
   "cell_type": "code",
   "execution_count": 39,
   "id": "e22a1a10-ef9d-4a94-ab53-84f791fde109",
   "metadata": {
    "ExecutionIndicator": {
     "show": true
    },
    "execution": {
     "iopub.execute_input": "2024-12-11T03:22:11.203382Z",
     "iopub.status.busy": "2024-12-11T03:22:11.203120Z",
     "iopub.status.idle": "2024-12-11T03:22:11.205998Z",
     "shell.execute_reply": "2024-12-11T03:22:11.205405Z",
     "shell.execute_reply.started": "2024-12-11T03:22:11.203367Z"
    },
    "tags": []
   },
   "outputs": [],
   "source": [
    "tf_con = tf.constant([[1.0, 2.0],[3.0, 4.0]])"
   ]
  },
  {
   "cell_type": "code",
   "execution_count": 40,
   "id": "6d78b4df-67b3-40cc-8eff-96ee27b34690",
   "metadata": {
    "execution": {
     "iopub.execute_input": "2024-12-11T03:22:11.206678Z",
     "iopub.status.busy": "2024-12-11T03:22:11.206464Z",
     "iopub.status.idle": "2024-12-11T03:22:11.209874Z",
     "shell.execute_reply": "2024-12-11T03:22:11.209466Z",
     "shell.execute_reply.started": "2024-12-11T03:22:11.206664Z"
    },
    "tags": []
   },
   "outputs": [
    {
     "data": {
      "text/plain": [
       "<tf.Tensor: shape=(2, 2), dtype=float32, numpy=\n",
       "array([[1., 2.],\n",
       "       [3., 4.]], dtype=float32)>"
      ]
     },
     "execution_count": 40,
     "metadata": {},
     "output_type": "execute_result"
    }
   ],
   "source": [
    "tf_con"
   ]
  },
  {
   "cell_type": "code",
   "execution_count": 41,
   "id": "5bb4e8d3-5504-49ca-a939-c3c5d7d397f8",
   "metadata": {
    "execution": {
     "iopub.execute_input": "2024-12-11T03:22:11.210948Z",
     "iopub.status.busy": "2024-12-11T03:22:11.210717Z",
     "iopub.status.idle": "2024-12-11T03:22:11.213642Z",
     "shell.execute_reply": "2024-12-11T03:22:11.213232Z",
     "shell.execute_reply.started": "2024-12-11T03:22:11.210933Z"
    },
    "tags": []
   },
   "outputs": [
    {
     "data": {
      "text/plain": [
       "TensorShape([2, 2])"
      ]
     },
     "execution_count": 41,
     "metadata": {},
     "output_type": "execute_result"
    }
   ],
   "source": [
    "tf_con.shape"
   ]
  },
  {
   "cell_type": "code",
   "execution_count": 42,
   "id": "bc10f130-3128-474a-8325-87728da829c3",
   "metadata": {
    "execution": {
     "iopub.execute_input": "2024-12-11T03:22:11.214285Z",
     "iopub.status.busy": "2024-12-11T03:22:11.214105Z",
     "iopub.status.idle": "2024-12-11T03:22:11.217928Z",
     "shell.execute_reply": "2024-12-11T03:22:11.217507Z",
     "shell.execute_reply.started": "2024-12-11T03:22:11.214271Z"
    },
    "tags": []
   },
   "outputs": [
    {
     "data": {
      "text/plain": [
       "<tf.Tensor: shape=(2, 1), dtype=float32, numpy=\n",
       "array([[1.],\n",
       "       [3.]], dtype=float32)>"
      ]
     },
     "execution_count": 42,
     "metadata": {},
     "output_type": "execute_result"
    }
   ],
   "source": [
    "tf_con[:,:1]"
   ]
  },
  {
   "cell_type": "code",
   "execution_count": 43,
   "id": "6833c4b9-5285-4a39-9f5a-55b90581afcc",
   "metadata": {
    "execution": {
     "iopub.execute_input": "2024-12-11T03:22:11.218580Z",
     "iopub.status.busy": "2024-12-11T03:22:11.218378Z",
     "iopub.status.idle": "2024-12-11T03:22:11.220660Z",
     "shell.execute_reply": "2024-12-11T03:22:11.220189Z",
     "shell.execute_reply.started": "2024-12-11T03:22:11.218566Z"
    },
    "tags": []
   },
   "outputs": [],
   "source": [
    "import pandas as pd"
   ]
  },
  {
   "cell_type": "code",
   "execution_count": 44,
   "id": "10c0009a-1a3c-459c-bad8-7d64a405c9fe",
   "metadata": {
    "ExecutionIndicator": {
     "show": true
    },
    "execution": {
     "iopub.execute_input": "2024-12-11T03:22:11.221333Z",
     "iopub.status.busy": "2024-12-11T03:22:11.221136Z",
     "iopub.status.idle": "2024-12-11T03:22:11.223810Z",
     "shell.execute_reply": "2024-12-11T03:22:11.223329Z",
     "shell.execute_reply.started": "2024-12-11T03:22:11.221319Z"
    },
    "tags": []
   },
   "outputs": [],
   "source": [
    "pd1 = pd.DataFrame([[1,2],[3,4]])"
   ]
  },
  {
   "cell_type": "code",
   "execution_count": 45,
   "id": "008d3dbb-a53c-4874-9a9e-85cb122a26d1",
   "metadata": {
    "execution": {
     "iopub.execute_input": "2024-12-11T03:22:11.224503Z",
     "iopub.status.busy": "2024-12-11T03:22:11.224306Z",
     "iopub.status.idle": "2024-12-11T03:22:11.227738Z",
     "shell.execute_reply": "2024-12-11T03:22:11.227285Z",
     "shell.execute_reply.started": "2024-12-11T03:22:11.224489Z"
    },
    "tags": []
   },
   "outputs": [
    {
     "data": {
      "text/plain": [
       "0    3\n",
       "1    4\n",
       "Name: 1, dtype: int64"
      ]
     },
     "execution_count": 45,
     "metadata": {},
     "output_type": "execute_result"
    }
   ],
   "source": [
    "pd1.iloc[1]"
   ]
  },
  {
   "cell_type": "code",
   "execution_count": 46,
   "id": "5d31c424-6a3b-4a6d-aaaf-f9b0f978059b",
   "metadata": {
    "execution": {
     "iopub.execute_input": "2024-12-11T03:22:11.229230Z",
     "iopub.status.busy": "2024-12-11T03:22:11.229004Z",
     "iopub.status.idle": "2024-12-11T03:22:11.232414Z",
     "shell.execute_reply": "2024-12-11T03:22:11.232000Z",
     "shell.execute_reply.started": "2024-12-11T03:22:11.229210Z"
    },
    "tags": []
   },
   "outputs": [
    {
     "data": {
      "text/plain": [
       "0    3\n",
       "1    4\n",
       "Name: 1, dtype: int64"
      ]
     },
     "execution_count": 46,
     "metadata": {},
     "output_type": "execute_result"
    }
   ],
   "source": [
    "pd1.loc[1]"
   ]
  },
  {
   "cell_type": "code",
   "execution_count": 47,
   "id": "6bb136c1-82a2-46c6-8542-d6c0ecf6206a",
   "metadata": {
    "execution": {
     "iopub.execute_input": "2024-12-11T03:22:11.233060Z",
     "iopub.status.busy": "2024-12-11T03:22:11.232838Z",
     "iopub.status.idle": "2024-12-11T03:22:11.236190Z",
     "shell.execute_reply": "2024-12-11T03:22:11.235758Z",
     "shell.execute_reply.started": "2024-12-11T03:22:11.233046Z"
    },
    "tags": []
   },
   "outputs": [
    {
     "data": {
      "text/plain": [
       "0    2\n",
       "1    4\n",
       "Name: 1, dtype: int64"
      ]
     },
     "execution_count": 47,
     "metadata": {},
     "output_type": "execute_result"
    }
   ],
   "source": [
    "pd1[1]"
   ]
  },
  {
   "cell_type": "code",
   "execution_count": 48,
   "id": "f7d3ec4e-b480-44a8-8e2d-39fcd0fc3551",
   "metadata": {
    "execution": {
     "iopub.execute_input": "2024-12-11T03:22:11.236809Z",
     "iopub.status.busy": "2024-12-11T03:22:11.236612Z",
     "iopub.status.idle": "2024-12-11T03:22:11.239601Z",
     "shell.execute_reply": "2024-12-11T03:22:11.239194Z",
     "shell.execute_reply.started": "2024-12-11T03:22:11.236795Z"
    },
    "tags": []
   },
   "outputs": [
    {
     "data": {
      "text/plain": [
       "array([[1, 2],\n",
       "       [3, 4]])"
      ]
     },
     "execution_count": 48,
     "metadata": {},
     "output_type": "execute_result"
    }
   ],
   "source": [
    "pd1.values"
   ]
  },
  {
   "cell_type": "code",
   "execution_count": 49,
   "id": "e354885e-c78c-41d5-93cb-77f0512bc844",
   "metadata": {
    "execution": {
     "iopub.execute_input": "2024-12-11T03:22:11.240265Z",
     "iopub.status.busy": "2024-12-11T03:22:11.240065Z",
     "iopub.status.idle": "2024-12-11T03:22:11.242949Z",
     "shell.execute_reply": "2024-12-11T03:22:11.242526Z",
     "shell.execute_reply.started": "2024-12-11T03:22:11.240251Z"
    },
    "tags": []
   },
   "outputs": [
    {
     "data": {
      "text/plain": [
       "numpy.ndarray"
      ]
     },
     "execution_count": 49,
     "metadata": {},
     "output_type": "execute_result"
    }
   ],
   "source": [
    "type(pd1.values)"
   ]
  },
  {
   "cell_type": "code",
   "execution_count": 50,
   "id": "51912333-43cf-462f-8958-66d120264192",
   "metadata": {
    "execution": {
     "iopub.execute_input": "2024-12-11T03:22:11.243601Z",
     "iopub.status.busy": "2024-12-11T03:22:11.243404Z",
     "iopub.status.idle": "2024-12-11T03:22:11.245650Z",
     "shell.execute_reply": "2024-12-11T03:22:11.245163Z",
     "shell.execute_reply.started": "2024-12-11T03:22:11.243587Z"
    },
    "tags": []
   },
   "outputs": [],
   "source": [
    "t = tf_con"
   ]
  },
  {
   "cell_type": "code",
   "execution_count": 51,
   "id": "a33c1114-7557-4aef-bc96-244c81734185",
   "metadata": {
    "execution": {
     "iopub.execute_input": "2024-12-11T03:22:11.246302Z",
     "iopub.status.busy": "2024-12-11T03:22:11.246108Z",
     "iopub.status.idle": "2024-12-11T03:22:11.249312Z",
     "shell.execute_reply": "2024-12-11T03:22:11.248879Z",
     "shell.execute_reply.started": "2024-12-11T03:22:11.246289Z"
    },
    "tags": []
   },
   "outputs": [
    {
     "data": {
      "text/plain": [
       "<tf.Tensor: shape=(2, 2), dtype=float32, numpy=\n",
       "array([[1., 2.],\n",
       "       [3., 4.]], dtype=float32)>"
      ]
     },
     "execution_count": 51,
     "metadata": {},
     "output_type": "execute_result"
    }
   ],
   "source": [
    "t"
   ]
  },
  {
   "cell_type": "code",
   "execution_count": 52,
   "id": "c2f6b9e7-c846-4123-a5be-69959541b363",
   "metadata": {
    "execution": {
     "iopub.execute_input": "2024-12-11T03:22:11.249951Z",
     "iopub.status.busy": "2024-12-11T03:22:11.249736Z",
     "iopub.status.idle": "2024-12-11T03:22:11.253151Z",
     "shell.execute_reply": "2024-12-11T03:22:11.252718Z",
     "shell.execute_reply.started": "2024-12-11T03:22:11.249937Z"
    },
    "tags": []
   },
   "outputs": [
    {
     "data": {
      "text/plain": [
       "<tf.Tensor: shape=(2, 2), dtype=float32, numpy=\n",
       "array([[3., 4.],\n",
       "       [5., 6.]], dtype=float32)>"
      ]
     },
     "execution_count": 52,
     "metadata": {},
     "output_type": "execute_result"
    }
   ],
   "source": [
    "t + 2"
   ]
  },
  {
   "cell_type": "code",
   "execution_count": 53,
   "id": "daac15b5-c4a3-4de6-8e6e-9a03e46329ba",
   "metadata": {
    "execution": {
     "iopub.execute_input": "2024-12-11T03:22:11.253774Z",
     "iopub.status.busy": "2024-12-11T03:22:11.253574Z",
     "iopub.status.idle": "2024-12-11T03:22:11.256425Z",
     "shell.execute_reply": "2024-12-11T03:22:11.255908Z",
     "shell.execute_reply.started": "2024-12-11T03:22:11.253760Z"
    },
    "tags": []
   },
   "outputs": [
    {
     "name": "stdout",
     "output_type": "stream",
     "text": [
      "tf.Tensor(\n",
      "[[1. 2.]\n",
      " [3. 4.]], shape=(2, 2), dtype=float32)\n"
     ]
    }
   ],
   "source": [
    "print(t)"
   ]
  },
  {
   "cell_type": "code",
   "execution_count": 54,
   "id": "b9794d37-c86f-44b5-a899-e669249af665",
   "metadata": {
    "execution": {
     "iopub.execute_input": "2024-12-11T03:22:11.257108Z",
     "iopub.status.busy": "2024-12-11T03:22:11.256850Z",
     "iopub.status.idle": "2024-12-11T03:22:11.260382Z",
     "shell.execute_reply": "2024-12-11T03:22:11.259903Z",
     "shell.execute_reply.started": "2024-12-11T03:22:11.257094Z"
    },
    "tags": []
   },
   "outputs": [
    {
     "data": {
      "text/plain": [
       "<tf.Tensor: shape=(2, 2), dtype=float32, numpy=\n",
       "array([[1., 2.],\n",
       "       [3., 4.]], dtype=float32)>"
      ]
     },
     "execution_count": 54,
     "metadata": {},
     "output_type": "execute_result"
    }
   ],
   "source": [
    "t[:,:]"
   ]
  },
  {
   "cell_type": "code",
   "execution_count": 55,
   "id": "905da5ee-3a22-4e37-828e-ed65f99eea2c",
   "metadata": {
    "execution": {
     "iopub.execute_input": "2024-12-11T03:22:11.261061Z",
     "iopub.status.busy": "2024-12-11T03:22:11.260833Z",
     "iopub.status.idle": "2024-12-11T03:22:11.263712Z",
     "shell.execute_reply": "2024-12-11T03:22:11.263310Z",
     "shell.execute_reply.started": "2024-12-11T03:22:11.261046Z"
    },
    "tags": []
   },
   "outputs": [
    {
     "data": {
      "text/plain": [
       "TensorShape([2, 2])"
      ]
     },
     "execution_count": 55,
     "metadata": {},
     "output_type": "execute_result"
    }
   ],
   "source": [
    "t.shape"
   ]
  },
  {
   "cell_type": "code",
   "execution_count": 56,
   "id": "99f5cc13-49f8-40e3-935a-55797223e48f",
   "metadata": {
    "execution": {
     "iopub.execute_input": "2024-12-11T03:22:11.264356Z",
     "iopub.status.busy": "2024-12-11T03:22:11.264163Z",
     "iopub.status.idle": "2024-12-11T03:22:11.267582Z",
     "shell.execute_reply": "2024-12-11T03:22:11.267171Z",
     "shell.execute_reply.started": "2024-12-11T03:22:11.264342Z"
    },
    "tags": []
   },
   "outputs": [
    {
     "data": {
      "text/plain": [
       "<tf.Tensor: shape=(2,), dtype=float32, numpy=array([3., 4.], dtype=float32)>"
      ]
     },
     "execution_count": 56,
     "metadata": {},
     "output_type": "execute_result"
    }
   ],
   "source": [
    "t[1]"
   ]
  },
  {
   "cell_type": "code",
   "execution_count": 57,
   "id": "096dbe2e-a0df-476f-b7d4-6dbf0d8bbd78",
   "metadata": {
    "execution": {
     "iopub.execute_input": "2024-12-11T03:22:11.268234Z",
     "iopub.status.busy": "2024-12-11T03:22:11.268032Z",
     "iopub.status.idle": "2024-12-11T03:22:11.271448Z",
     "shell.execute_reply": "2024-12-11T03:22:11.271048Z",
     "shell.execute_reply.started": "2024-12-11T03:22:11.268220Z"
    },
    "tags": []
   },
   "outputs": [
    {
     "data": {
      "text/plain": [
       "<tf.Tensor: shape=(2, 2), dtype=float32, numpy=\n",
       "array([[2., 3.],\n",
       "       [4., 5.]], dtype=float32)>"
      ]
     },
     "execution_count": 57,
     "metadata": {},
     "output_type": "execute_result"
    }
   ],
   "source": [
    "t+1"
   ]
  },
  {
   "cell_type": "code",
   "execution_count": 58,
   "id": "229ad3b6-23f4-40d3-a627-610e5daab37d",
   "metadata": {
    "execution": {
     "iopub.execute_input": "2024-12-11T03:22:11.273078Z",
     "iopub.status.busy": "2024-12-11T03:22:11.272851Z",
     "iopub.status.idle": "2024-12-11T03:22:11.276258Z",
     "shell.execute_reply": "2024-12-11T03:22:11.275828Z",
     "shell.execute_reply.started": "2024-12-11T03:22:11.273063Z"
    },
    "tags": []
   },
   "outputs": [
    {
     "data": {
      "text/plain": [
       "<tf.Tensor: shape=(2, 2), dtype=float32, numpy=\n",
       "array([[3., 4.],\n",
       "       [5., 6.]], dtype=float32)>"
      ]
     },
     "execution_count": 58,
     "metadata": {},
     "output_type": "execute_result"
    }
   ],
   "source": [
    "t+2"
   ]
  },
  {
   "cell_type": "code",
   "execution_count": 59,
   "id": "34555431-ce46-4628-9d0f-ab2022540f29",
   "metadata": {
    "execution": {
     "iopub.execute_input": "2024-12-11T03:22:11.276892Z",
     "iopub.status.busy": "2024-12-11T03:22:11.276679Z",
     "iopub.status.idle": "2024-12-11T03:22:11.279787Z",
     "shell.execute_reply": "2024-12-11T03:22:11.279382Z",
     "shell.execute_reply.started": "2024-12-11T03:22:11.276867Z"
    },
    "tags": []
   },
   "outputs": [
    {
     "data": {
      "text/plain": [
       "array([[1., 2.],\n",
       "       [3., 4.]], dtype=float32)"
      ]
     },
     "execution_count": 59,
     "metadata": {},
     "output_type": "execute_result"
    }
   ],
   "source": [
    "t.numpy()"
   ]
  },
  {
   "cell_type": "code",
   "execution_count": 60,
   "id": "f7946fa5-9f9d-49bb-93cd-090587d3f60a",
   "metadata": {
    "execution": {
     "iopub.execute_input": "2024-12-11T03:22:11.280465Z",
     "iopub.status.busy": "2024-12-11T03:22:11.280264Z",
     "iopub.status.idle": "2024-12-11T03:22:11.283123Z",
     "shell.execute_reply": "2024-12-11T03:22:11.282689Z",
     "shell.execute_reply.started": "2024-12-11T03:22:11.280451Z"
    },
    "tags": []
   },
   "outputs": [
    {
     "data": {
      "text/plain": [
       "'2.14.1'"
      ]
     },
     "execution_count": 60,
     "metadata": {},
     "output_type": "execute_result"
    }
   ],
   "source": [
    "tf.__version__"
   ]
  },
  {
   "cell_type": "code",
   "execution_count": 61,
   "id": "8c5e7fb7-480f-499f-8b0f-2f4bd8e31bbf",
   "metadata": {
    "execution": {
     "iopub.execute_input": "2024-12-11T03:29:51.854984Z",
     "iopub.status.busy": "2024-12-11T03:29:51.854643Z",
     "iopub.status.idle": "2024-12-11T03:29:51.862175Z",
     "shell.execute_reply": "2024-12-11T03:29:51.861701Z",
     "shell.execute_reply.started": "2024-12-11T03:29:51.854957Z"
    }
   },
   "outputs": [
    {
     "data": {
      "text/plain": [
       "<tf.Tensor: shape=(2, 2), dtype=float32, numpy=\n",
       "array([[ 1.,  4.],\n",
       "       [ 9., 16.]], dtype=float32)>"
      ]
     },
     "execution_count": 61,
     "metadata": {},
     "output_type": "execute_result"
    }
   ],
   "source": [
    "tf.square(t)"
   ]
  },
  {
   "cell_type": "code",
   "execution_count": 62,
   "id": "8c91e0fc-0d54-4335-adc1-59c51f732e10",
   "metadata": {
    "execution": {
     "iopub.execute_input": "2024-12-11T03:34:31.836292Z",
     "iopub.status.busy": "2024-12-11T03:34:31.835970Z",
     "iopub.status.idle": "2024-12-11T03:34:31.840065Z",
     "shell.execute_reply": "2024-12-11T03:34:31.839608Z",
     "shell.execute_reply.started": "2024-12-11T03:34:31.836274Z"
    }
   },
   "outputs": [
    {
     "data": {
      "text/plain": [
       "array([[1., 2.],\n",
       "       [3., 4.]], dtype=float32)"
      ]
     },
     "execution_count": 62,
     "metadata": {},
     "output_type": "execute_result"
    }
   ],
   "source": [
    "t.numpy()"
   ]
  },
  {
   "cell_type": "code",
   "execution_count": 64,
   "id": "9be4fb73-9294-49cc-85ae-54995a8c245c",
   "metadata": {
    "ExecutionIndicator": {
     "show": true
    },
    "execution": {
     "iopub.execute_input": "2024-12-11T03:37:17.705641Z",
     "iopub.status.busy": "2024-12-11T03:37:17.705296Z",
     "iopub.status.idle": "2024-12-11T03:37:17.710358Z",
     "shell.execute_reply": "2024-12-11T03:37:17.709906Z",
     "shell.execute_reply.started": "2024-12-11T03:37:17.705620Z"
    },
    "tags": []
   },
   "outputs": [
    {
     "data": {
      "text/plain": [
       "<tf.Tensor: shape=(), dtype=float32, numpy=3.0>"
      ]
     },
     "execution_count": 64,
     "metadata": {},
     "output_type": "execute_result"
    }
   ],
   "source": [
    "tf.constant(2.0) + tf.cast(1,tf.float32)"
   ]
  },
  {
   "cell_type": "code",
   "execution_count": 66,
   "id": "8e48e8cd-febf-4690-bd58-ce2b08f88ebd",
   "metadata": {
    "ExecutionIndicator": {
     "show": true
    },
    "execution": {
     "iopub.execute_input": "2024-12-11T03:46:44.292839Z",
     "iopub.status.busy": "2024-12-11T03:46:44.292485Z",
     "iopub.status.idle": "2024-12-11T03:46:44.297056Z",
     "shell.execute_reply": "2024-12-11T03:46:44.296518Z",
     "shell.execute_reply.started": "2024-12-11T03:46:44.292820Z"
    },
    "tags": []
   },
   "outputs": [],
   "source": [
    "v = tf.Variable([[1,2,3],[4.0, 5.0, 6.0]]) #只能有一种类型"
   ]
  },
  {
   "cell_type": "code",
   "execution_count": 67,
   "id": "9f86ab0d-045b-4830-ae10-338d24f27ad1",
   "metadata": {
    "execution": {
     "iopub.execute_input": "2024-12-11T03:46:46.348775Z",
     "iopub.status.busy": "2024-12-11T03:46:46.348457Z",
     "iopub.status.idle": "2024-12-11T03:46:46.352868Z",
     "shell.execute_reply": "2024-12-11T03:46:46.352349Z",
     "shell.execute_reply.started": "2024-12-11T03:46:46.348757Z"
    }
   },
   "outputs": [
    {
     "data": {
      "text/plain": [
       "<tf.Variable 'Variable:0' shape=(2, 3) dtype=float32, numpy=\n",
       "array([[1., 2., 3.],\n",
       "       [4., 5., 6.]], dtype=float32)>"
      ]
     },
     "execution_count": 67,
     "metadata": {},
     "output_type": "execute_result"
    }
   ],
   "source": [
    "v"
   ]
  },
  {
   "cell_type": "code",
   "execution_count": 68,
   "id": "7786fec2-1c0b-43a7-ac3e-82c7276d52b4",
   "metadata": {
    "execution": {
     "iopub.execute_input": "2024-12-11T03:46:53.592723Z",
     "iopub.status.busy": "2024-12-11T03:46:53.592415Z",
     "iopub.status.idle": "2024-12-11T03:46:53.601123Z",
     "shell.execute_reply": "2024-12-11T03:46:53.600653Z",
     "shell.execute_reply.started": "2024-12-11T03:46:53.592704Z"
    }
   },
   "outputs": [
    {
     "data": {
      "text/plain": [
       "<tf.Variable 'UnreadVariable' shape=(2, 3) dtype=float32, numpy=\n",
       "array([[ 2.,  4.,  6.],\n",
       "       [ 8., 10., 12.]], dtype=float32)>"
      ]
     },
     "execution_count": 68,
     "metadata": {},
     "output_type": "execute_result"
    }
   ],
   "source": [
    "v.assign(v*2)"
   ]
  },
  {
   "cell_type": "code",
   "execution_count": 69,
   "id": "ecc1633a-1289-4d2a-a6fb-3fcd68bb3627",
   "metadata": {
    "execution": {
     "iopub.execute_input": "2024-12-11T03:47:02.228090Z",
     "iopub.status.busy": "2024-12-11T03:47:02.227746Z",
     "iopub.status.idle": "2024-12-11T03:47:02.232266Z",
     "shell.execute_reply": "2024-12-11T03:47:02.231777Z",
     "shell.execute_reply.started": "2024-12-11T03:47:02.228071Z"
    }
   },
   "outputs": [
    {
     "data": {
      "text/plain": [
       "<tf.Variable 'Variable:0' shape=(2, 3) dtype=float32, numpy=\n",
       "array([[ 2.,  4.,  6.],\n",
       "       [ 8., 10., 12.]], dtype=float32)>"
      ]
     },
     "execution_count": 69,
     "metadata": {},
     "output_type": "execute_result"
    }
   ],
   "source": [
    "v"
   ]
  },
  {
   "cell_type": "code",
   "execution_count": 70,
   "id": "020552a5-4d1a-4d8b-bd6e-7b8121c1e561",
   "metadata": {
    "execution": {
     "iopub.execute_input": "2024-12-11T03:47:10.959213Z",
     "iopub.status.busy": "2024-12-11T03:47:10.958880Z",
     "iopub.status.idle": "2024-12-11T03:47:10.963037Z",
     "shell.execute_reply": "2024-12-11T03:47:10.962486Z",
     "shell.execute_reply.started": "2024-12-11T03:47:10.959195Z"
    }
   },
   "outputs": [
    {
     "data": {
      "text/plain": [
       "<tf.Tensor: shape=(2, 2), dtype=float32, numpy=\n",
       "array([[1., 2.],\n",
       "       [3., 4.]], dtype=float32)>"
      ]
     },
     "execution_count": 70,
     "metadata": {},
     "output_type": "execute_result"
    }
   ],
   "source": [
    "t"
   ]
  },
  {
   "cell_type": "code",
   "execution_count": 71,
   "id": "a60a668c-3c6f-4ef2-be7c-1a4e56351144",
   "metadata": {
    "execution": {
     "iopub.execute_input": "2024-12-11T03:47:15.118526Z",
     "iopub.status.busy": "2024-12-11T03:47:15.118193Z",
     "iopub.status.idle": "2024-12-11T03:47:15.122752Z",
     "shell.execute_reply": "2024-12-11T03:47:15.122228Z",
     "shell.execute_reply.started": "2024-12-11T03:47:15.118506Z"
    }
   },
   "outputs": [
    {
     "data": {
      "text/plain": [
       "<tf.Tensor: shape=(2, 2), dtype=float32, numpy=\n",
       "array([[3., 4.],\n",
       "       [5., 6.]], dtype=float32)>"
      ]
     },
     "execution_count": 71,
     "metadata": {},
     "output_type": "execute_result"
    }
   ],
   "source": [
    "t+2"
   ]
  },
  {
   "cell_type": "code",
   "execution_count": 72,
   "id": "62ac1715-b67a-4c65-bd41-af60fc3c0b86",
   "metadata": {
    "execution": {
     "iopub.execute_input": "2024-12-11T03:47:17.681616Z",
     "iopub.status.busy": "2024-12-11T03:47:17.681292Z",
     "iopub.status.idle": "2024-12-11T03:47:17.685555Z",
     "shell.execute_reply": "2024-12-11T03:47:17.684933Z",
     "shell.execute_reply.started": "2024-12-11T03:47:17.681597Z"
    }
   },
   "outputs": [
    {
     "data": {
      "text/plain": [
       "<tf.Tensor: shape=(2, 2), dtype=float32, numpy=\n",
       "array([[1., 2.],\n",
       "       [3., 4.]], dtype=float32)>"
      ]
     },
     "execution_count": 72,
     "metadata": {},
     "output_type": "execute_result"
    }
   ],
   "source": [
    "t"
   ]
  },
  {
   "cell_type": "code",
   "execution_count": 73,
   "id": "5e33b09b-9867-4cef-8086-58162663dc36",
   "metadata": {
    "execution": {
     "iopub.execute_input": "2024-12-11T03:47:25.464256Z",
     "iopub.status.busy": "2024-12-11T03:47:25.463870Z",
     "iopub.status.idle": "2024-12-11T03:47:25.468393Z",
     "shell.execute_reply": "2024-12-11T03:47:25.467866Z",
     "shell.execute_reply.started": "2024-12-11T03:47:25.464236Z"
    }
   },
   "outputs": [
    {
     "data": {
      "text/plain": [
       "<tf.Tensor: shape=(2, 3), dtype=float32, numpy=\n",
       "array([[ 4.,  8., 12.],\n",
       "       [16., 20., 24.]], dtype=float32)>"
      ]
     },
     "execution_count": 73,
     "metadata": {},
     "output_type": "execute_result"
    }
   ],
   "source": [
    "v * 2"
   ]
  },
  {
   "cell_type": "code",
   "execution_count": 74,
   "id": "092affc7-23d8-4e4c-835c-ff202a2e7f74",
   "metadata": {
    "execution": {
     "iopub.execute_input": "2024-12-11T03:47:29.355397Z",
     "iopub.status.busy": "2024-12-11T03:47:29.355077Z",
     "iopub.status.idle": "2024-12-11T03:47:29.359297Z",
     "shell.execute_reply": "2024-12-11T03:47:29.358841Z",
     "shell.execute_reply.started": "2024-12-11T03:47:29.355379Z"
    }
   },
   "outputs": [
    {
     "data": {
      "text/plain": [
       "<tf.Variable 'Variable:0' shape=(2, 3) dtype=float32, numpy=\n",
       "array([[ 2.,  4.,  6.],\n",
       "       [ 8., 10., 12.]], dtype=float32)>"
      ]
     },
     "execution_count": 74,
     "metadata": {},
     "output_type": "execute_result"
    }
   ],
   "source": [
    "v"
   ]
  },
  {
   "cell_type": "code",
   "execution_count": 77,
   "id": "5c505541-6bc3-4865-b15e-8a18ec3ea72b",
   "metadata": {
    "execution": {
     "iopub.execute_input": "2024-12-11T05:07:24.268321Z",
     "iopub.status.busy": "2024-12-11T05:07:24.267972Z",
     "iopub.status.idle": "2024-12-11T05:07:24.271527Z",
     "shell.execute_reply": "2024-12-11T05:07:24.271100Z",
     "shell.execute_reply.started": "2024-12-11T05:07:24.268302Z"
    },
    "tags": []
   },
   "outputs": [
    {
     "data": {
      "text/plain": [
       "tensorflow.python.framework.ops.EagerTensor"
      ]
     },
     "execution_count": 77,
     "metadata": {},
     "output_type": "execute_result"
    }
   ],
   "source": [
    "type(t)"
   ]
  },
  {
   "cell_type": "code",
   "execution_count": 78,
   "id": "79f92321-38f1-4192-88be-2f2d3e3e75b4",
   "metadata": {
    "execution": {
     "iopub.execute_input": "2024-12-11T05:07:26.154414Z",
     "iopub.status.busy": "2024-12-11T05:07:26.154094Z",
     "iopub.status.idle": "2024-12-11T05:07:26.157399Z",
     "shell.execute_reply": "2024-12-11T05:07:26.156871Z",
     "shell.execute_reply.started": "2024-12-11T05:07:26.154394Z"
    },
    "tags": []
   },
   "outputs": [
    {
     "name": "stdout",
     "output_type": "stream",
     "text": [
      "1\n"
     ]
    }
   ],
   "source": [
    "print(1)"
   ]
  },
  {
   "cell_type": "code",
   "execution_count": 79,
   "id": "855b15d1-5dc9-4f1b-8993-df27158237ac",
   "metadata": {
    "execution": {
     "iopub.execute_input": "2024-12-11T06:01:49.818416Z",
     "iopub.status.busy": "2024-12-11T06:01:49.818084Z",
     "iopub.status.idle": "2024-12-11T06:01:49.821295Z",
     "shell.execute_reply": "2024-12-11T06:01:49.820831Z",
     "shell.execute_reply.started": "2024-12-11T06:01:49.818398Z"
    },
    "tags": []
   },
   "outputs": [
    {
     "name": "stdout",
     "output_type": "stream",
     "text": [
      "1\n"
     ]
    }
   ],
   "source": [
    "print(1)"
   ]
  }
 ],
 "metadata": {
  "kernelspec": {
   "display_name": "Python 3 (ipykernel)",
   "language": "python",
   "name": "python3"
  },
  "language_info": {
   "codemirror_mode": {
    "name": "ipython",
    "version": 3
   },
   "file_extension": ".py",
   "mimetype": "text/x-python",
   "name": "python",
   "nbconvert_exporter": "python",
   "pygments_lexer": "ipython3",
   "version": "3.10.14"
  }
 },
 "nbformat": 4,
 "nbformat_minor": 5
}
